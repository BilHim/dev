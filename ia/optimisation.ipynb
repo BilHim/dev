{
 "cells": [
  {
   "cell_type": "markdown",
   "metadata": {},
   "source": [
    "# Optimisation"
   ]
  },
  {
   "cell_type": "markdown",
   "metadata": {},
   "source": [
    "## importing libraries "
   ]
  },
  {
   "cell_type": "code",
   "execution_count": 24,
   "metadata": {},
   "outputs": [],
   "source": [
    "import datetime\n",
    "\n",
    "\n",
    "import pandas as pd\n",
    "import numpy as np\n",
    "import matplotlib.pyplot as plt\n",
    "import seaborn as sns\n",
    "import pygad\n",
    "import plotly.express as px\n",
    "from tqdm import trange, tqdm"
   ]
  },
  {
   "cell_type": "markdown",
   "metadata": {},
   "source": [
    "# Input"
   ]
  },
  {
   "cell_type": "code",
   "execution_count": 3,
   "metadata": {},
   "outputs": [],
   "source": [
    "num_salles = 4\n",
    "num_lits = 50\n",
    "\n",
    "num_vacations = 1000\n",
    "num_patients = 500\n",
    "num_chiurgiens = 10\n",
    "\n",
    "np.random.seed(0)\n",
    "\n",
    "patients = pd.DataFrame({\n",
    "    'index': np.arange(num_patients),\n",
    "    'nom': np.random.choice(['Jean', 'Pierre', 'Paul', 'Jacques', 'Marie', 'Anne', 'Julie', 'Sophie', 'Marine', 'Marion'], size=num_patients),\n",
    "    'qr_code': np.random.randint(0, 1000, size=num_patients),\n",
    "})\n",
    "\n",
    "positions = pd.DataFrame({\n",
    "    'index': np.arange(num_patients),\n",
    "    'patient': np.random.randint(0, 100, size=num_patients),\n",
    "    'salle': np.random.randint(0, num_salles, size=num_patients),\n",
    "})\n",
    "\n",
    "vacations = pd.DataFrame({\n",
    "    'index': np.arange(num_vacations),\n",
    "    'chirurgien': np.random.randint(0, num_chiurgiens, num_vacations),\n",
    "    'date_debut': np.random.randint(0, 100, num_vacations),\n",
    "    'date_fin': np.random.randint(0, 100, num_vacations)\n",
    "})\n",
    "\n",
    "operations = pd.DataFrame({\n",
    "    'index': np.arange(num_patients),\n",
    "    'patient': np.random.randint(0, num_patients, size=num_patients),\n",
    "    'duree_op': np.random.randint(30*60, 300*60, size=num_patients),\n",
    "    'duree_sspi': np.random.randint(5*60, 60*60, size=num_patients),\n",
    "    'duree_sejour': np.random.randint(1, 10, size=num_patients),\n",
    "    'urgence': np.random.random(num_patients) > 0.8,\n",
    "    'chirurgien': np.random.randint(0, num_chiurgiens, size=num_patients),\n",
    "    'date_rdv': np.random.randint(-14*24*60*60, 0, size=num_patients) + 1695913686,\n",
    "    # 'salle': np.random.randint(0, num_salles, size=num_patients),\n",
    "})"
   ]
  },
  {
   "cell_type": "markdown",
   "metadata": {},
   "source": [
    "# Lits"
   ]
  },
  {
   "cell_type": "code",
   "execution_count": 4,
   "metadata": {},
   "outputs": [],
   "source": [
    "sejours_data = []\n",
    "for _, operation in operations.iterrows():\n",
    "    sejours_data.append({\n",
    "        'operation': operation['index'],\n",
    "        'date_entree': operation.date_rdv + np.random.randint(0, 7) * 24 * 60 * 60,\n",
    "        'date_sortie': operation.date_rdv + operation.duree_sejour * 24 * 60 * 60\n",
    "    })\n",
    "\n",
    "sejours = pd.DataFrame(sejours_data)"
   ]
  },
  {
   "cell_type": "code",
   "execution_count": 13,
   "metadata": {},
   "outputs": [],
   "source": [
    "def calculer_nb_patients(sejours_):\n",
    "    sejours = np.array(sejours_[['date_entree', 'date_sortie']])\n",
    "    nb_patients = np.ones(len(sejours))\n",
    "\n",
    "    for i in range(len(sejours)):\n",
    "        nb_patients[\n",
    "            (sejours[:, 0] >= sejours[i, 0]) &\n",
    "            (sejours[:, 0] < sejours[i, 1])\n",
    "        ] += 1\n",
    "    \n",
    "    sejours = sejours_.copy()\n",
    "    sejours['nb_patients'] = nb_patients.astype(int)\n",
    "    sejours['conflits'] = (sejours.nb_patients - num_lits).clip(0)\n",
    "\n",
    "    return sejours"
   ]
  },
  {
   "cell_type": "code",
   "execution_count": 1,
   "metadata": {},
   "outputs": [
    {
     "ename": "NameError",
     "evalue": "name 'calculer_nb_patients' is not defined",
     "output_type": "error",
     "traceback": [
      "\u001b[0;31m---------------------------------------------------------------------------\u001b[0m",
      "\u001b[0;31mNameError\u001b[0m                                 Traceback (most recent call last)",
      "\u001b[1;32m/workspaces/dev/optimisation.ipynb Cellule 9\u001b[0m line \u001b[0;36m1\n\u001b[0;32m----> <a href='vscode-notebook-cell://codespaces%2Bfictional-engine-r95g4g9vvgh6vg/workspaces/dev/optimisation.ipynb#X11sdnNjb2RlLXJlbW90ZQ%3D%3D?line=0'>1</a>\u001b[0m calculer_nb_patients(sejours)\n",
      "\u001b[0;31mNameError\u001b[0m: name 'calculer_nb_patients' is not defined"
     ]
    }
   ],
   "source": [
    "calculer_nb_patients(sejours)"
   ]
  },
  {
   "cell_type": "code",
   "execution_count": 15,
   "metadata": {},
   "outputs": [],
   "source": [
    "def conflits_lits(sejours):\n",
    "    return calculer_nb_patients(sejours)['conflits'].sum()"
   ]
  },
  {
   "cell_type": "code",
   "execution_count": 16,
   "metadata": {},
   "outputs": [
    {
     "data": {
      "text/plain": [
       "12855"
      ]
     },
     "execution_count": 16,
     "metadata": {},
     "output_type": "execute_result"
    }
   ],
   "source": [
    "conflits_lits(sejours)"
   ]
  },
  {
   "cell_type": "code",
   "execution_count": 18,
   "metadata": {},
   "outputs": [],
   "source": [
    "tolerance_urgence = 48 * 60 * 60\n",
    "\n",
    "def conflits_urgence(sejours, operations):\n",
    "    # join operations and sejours on operation index\n",
    "    sejours_ = pd.merge(sejours, operations, left_on='operation', right_on='index', how='left')\n",
    "    return sejours_.loc[\n",
    "        (sejours_.date_entree - sejours_.date_rdv > tolerance_urgence) &\n",
    "        (sejours_.urgence == True)\n",
    "    ].shape[0]"
   ]
  },
  {
   "cell_type": "code",
   "execution_count": 19,
   "metadata": {},
   "outputs": [
    {
     "data": {
      "text/plain": [
       "43"
      ]
     },
     "execution_count": 19,
     "metadata": {},
     "output_type": "execute_result"
    }
   ],
   "source": [
    "conflits_urgence(sejours, operations)"
   ]
  },
  {
   "cell_type": "code",
   "execution_count": 72,
   "metadata": {},
   "outputs": [],
   "source": [
    "step = 24 * 60 * 60\n",
    "max_iter = 10000\n",
    "\n",
    "def calculer_nb_conflits_lits(sejours):\n",
    "    nb_patients = np.ones(len(sejours), dtype=int)\n",
    "\n",
    "    for i in range(len(sejours)):\n",
    "        nb_patients[\n",
    "            (sejours[:, 0] >= sejours[i, 0]) &\n",
    "            (sejours[:, 0] < sejours[i, 1])\n",
    "        ] += 1\n",
    "    \n",
    "    return (nb_patients - num_lits).clip(0)\n",
    "\n",
    "def resoudre_conflit_lits(sejours_):\n",
    "    data = sejours_[['date_entree', 'date_sortie']].to_numpy()\n",
    "\n",
    "    conflits = calculer_nb_conflits_lits(data)\n",
    "    max_conflict = conflits.max()\n",
    "\n",
    "    max_conflict_init = max_conflict\n",
    "    # progress = tqdm(total=max_conflict_init)\n",
    "    i = 0\n",
    "    while max_conflict > 0 and i < max_iter:\n",
    "        where = conflits == max_conflict\n",
    "        data[where, 0] += step * np.random.randint(0, 5, size=(where.sum()))\n",
    "\n",
    "        conflits = calculer_nb_conflits_lits(data)\n",
    "        max_conflict = conflits.max()\n",
    "        # progress.update(max_conflict_init - max_conflict)\n",
    "        i += 1\n",
    "\n",
    "    # progress.close()\n",
    "\n",
    "    sejours = sejours_.copy()\n",
    "    sejours['date_entree'] = data[:, 0]\n",
    "    sejours['date_sortie'] = data[:, 1]\n",
    "    sejours['conflits'] = conflits\n",
    "\n",
    "    return sejours"
   ]
  },
  {
   "cell_type": "code",
   "execution_count": 73,
   "metadata": {},
   "outputs": [],
   "source": [
    "sejours_resolu = resoudre_conflit_lits(sejours)"
   ]
  },
  {
   "cell_type": "code",
   "execution_count": 74,
   "metadata": {},
   "outputs": [
    {
     "data": {
      "text/plain": [
       "[<matplotlib.lines.Line2D at 0x7f04d7edb790>]"
      ]
     },
     "execution_count": 74,
     "metadata": {},
     "output_type": "execute_result"
    },
    {
     "data": {
      "image/png": "[encoded data removed]",
      "text/plain": [
       "<Figure size 640x480 with 1 Axes>"
      ]
     },
     "metadata": {},
     "output_type": "display_data"
    }
   ],
   "source": [
    "sejours = calculer_nb_patients(sejours)\n",
    "sejours = sejours.sort_values('date_entree')\n",
    "\n",
    "sejours_resolu = calculer_nb_patients(sejours_resolu)\n",
    "sejours_resolu = sejours_resolu.sort_values('date_entree')\n",
    "\n",
    "plt.plot(sejours.date_entree, sejours.nb_patients)\n",
    "plt.plot(sejours_resolu.date_entree, sejours_resolu.nb_patients)"
   ]
  },
  {
   "cell_type": "code",
   "execution_count": 137,
   "metadata": {},
   "outputs": [],
   "source": [
    "beta = 10\n",
    "\n",
    "def calculer_cout(sejours, operations):\n",
    "    sejours_ = pd.merge(sejours, operations, left_on='operation', right_on='index', how='left')\n",
    "    alpha = 1 + sejours_.urgence * beta\n",
    "    return ((sejours_.date_entree - sejours_.date_rdv) * alpha).sum() / 60 / 60 / 24"
   ]
  },
  {
   "cell_type": "code",
   "execution_count": 96,
   "metadata": {},
   "outputs": [
    {
     "data": {
      "text/plain": [
       "483062400"
      ]
     },
     "execution_count": 96,
     "metadata": {},
     "output_type": "execute_result"
    }
   ],
   "source": [
    "calculer_cout(sejours_resolu, operations)"
   ]
  },
  {
   "cell_type": "markdown",
   "metadata": {},
   "source": [
    "## Optimisation"
   ]
  },
  {
   "cell_type": "markdown",
   "metadata": {},
   "source": [
    "### Tabou"
   ]
  },
  {
   "cell_type": "code",
   "execution_count": 28,
   "metadata": {},
   "outputs": [
    {
     "name": "stderr",
     "output_type": "stream",
     "text": [
      "100%|██████████| 1000/1000 [01:26<00:00, 11.51it/s]\n"
     ]
    }
   ],
   "source": [
    "iters = 1000\n",
    "\n",
    "best_solution = sejours_resolu.copy()\n",
    "best_cout = calculer_cout(sejours_resolu, operations)\n",
    "best_lit_conflict = conflits_lits(sejours_resolu) \n",
    "best_urgence_conflict = conflits_urgence(sejours_resolu, operations)\n",
    "\n",
    "couts = [best_cout]\n",
    "lit_conflicts = [best_lit_conflict]\n",
    "urgence_conflicts = [best_urgence_conflict]\n",
    "\n",
    "for i in trange(iters):\n",
    "    solution = best_solution.copy()\n",
    "    solution.date_entree += np.random.randint(-1, 1, size=len(solution)) * 24 * 60 * 60\n",
    "\n",
    "    # make sure no patient is in the hospital before his operation\n",
    "    solution.date_entree = np.maximum(solution.date_entree, operations.date_rdv[solution.operation])\n",
    "\n",
    "    # resolve lit conflicts\n",
    "    solution = resoudre_conflit_lits(solution)\n",
    "\n",
    "    # solution = resoudre_conflit_lits_optimized(solution)\n",
    "    cout = calculer_cout(solution, operations)\n",
    "    lit_conflict = conflits_lits(solution)\n",
    "    urgence_conflict = conflits_urgence(solution, operations)\n",
    "\n",
    "    if cout < best_cout:\n",
    "        best_solution = solution\n",
    "        best_cout = cout\n",
    "        best_lit_conflict = lit_conflict\n",
    "        best_urgence_conflict = urgence_conflict\n",
    "\n",
    "    # couts.append(cout)\n",
    "    # lit_conflicts.append(lit_conflict)\n",
    "    # urgence_conflicts.append(urgence_conflict)\n",
    "\n",
    "    couts.append(best_cout)\n",
    "    lit_conflicts.append(best_lit_conflict)\n",
    "    urgence_conflicts.append(best_urgence_conflict)\n",
    "\n",
    "couts = np.array(couts)\n",
    "lit_conflicts = np.array(lit_conflicts)\n",
    "urgence_conflicts = np.array(urgence_conflicts)\n"
   ]
  },
  {
   "cell_type": "code",
   "execution_count": 29,
   "metadata": {},
   "outputs": [
    {
     "data": {
      "text/plain": [
       "<matplotlib.legend.Legend at 0x7f04d82fe3b0>"
      ]
     },
     "execution_count": 29,
     "metadata": {},
     "output_type": "execute_result"
    },
    {
     "data": {
      "image/png": "[encoded data removed]",
      "text/plain": [
       "<Figure size 2000x1000 with 3 Axes>"
      ]
     },
     "metadata": {},
     "output_type": "display_data"
    }
   ],
   "source": [
    "fig, axes = plt.subplots(3, 1, figsize=(20, 10))\n",
    "\n",
    "axes[0].plot(np.arange(iters + 1), couts, label='cout')\n",
    "axes[0].legend()\n",
    "\n",
    "axes[1].plot(np.arange(iters + 1), lit_conflicts, label='lit conflicts')\n",
    "axes[1].legend()\n",
    "\n",
    "axes[2].plot(np.arange(iters + 1), urgence_conflicts, label='urgence conflicts')\n",
    "axes[2].legend()"
   ]
  },
  {
   "cell_type": "markdown",
   "metadata": {},
   "source": [
    "### Algorithme génétique"
   ]
  },
  {
   "cell_type": "code",
   "execution_count": 138,
   "metadata": {},
   "outputs": [],
   "source": [
    "def calculer_nb_conflits_urgences_(solution, sejours):\n",
    "    urgences = operations.urgence[sejours.operation]\n",
    "    dates_rdv = operations.date_rdv[sejours.operation]\n",
    "    dates_entree = solution[:, 0]\n",
    "\n",
    "    return ((dates_entree - dates_rdv > tolerance_urgence) & urgences).sum()\n",
    "\n",
    "def calculer_cout_(solution, sejours, operations):\n",
    "    urgences = operations.urgence[sejours.operation]\n",
    "    dates_rdv = operations.date_rdv[sejours.operation]\n",
    "    alpha = 1 + urgences * beta\n",
    "\n",
    "    dates_entree = solution[:, 0]\n",
    "    return ((dates_entree - dates_rdv) * alpha).sum() / 60 / 60 / 24"
   ]
  },
  {
   "cell_type": "code",
   "execution_count": 157,
   "metadata": {},
   "outputs": [],
   "source": [
    "def fitness_func(gad, solution_, solution_idx):\n",
    "    solution = solution_.reshape(-1, 2)\n",
    "\n",
    "    conflicts_lits = calculer_nb_conflits_lits(solution).sum()\n",
    "    conflicts_urgences = calculer_nb_conflits_urgences_(solution, sejours_resolu)\n",
    "    cout = calculer_cout_(solution, sejours_resolu, operations)\n",
    "\n",
    "    loss =  cout + conflicts_lits + conflicts_urgences\n",
    "    return 1 - np.log(loss) "
   ]
  },
  {
   "cell_type": "code",
   "execution_count": 175,
   "metadata": {},
   "outputs": [],
   "source": [
    "def callback_generation(ga_instance):\n",
    "    print(\"Generation = {generation}\".format(generation=ga_instance.generations_completed))\n",
    "    print(\"Fitness    = {fitness}\".format(fitness=ga_instance.best_solution()[1]))\n",
    "\n",
    "num_generations = 500\n",
    "num_parents_mating = 32\n",
    "mutation_percent_genes = 50\n",
    "\n",
    "sol_per_pop = 64\n",
    "num_genes = operations.shape[0] * 2\n",
    "\n",
    "parent_selection_type = \"sss\"\n",
    "crossover_type = \"scattered\"\n",
    "mutation_type = \"random\""
   ]
  },
  {
   "cell_type": "code",
   "execution_count": 176,
   "metadata": {},
   "outputs": [],
   "source": [
    "initial_population = sejours_resolu[['date_entree', 'date_sortie']].to_numpy().flatten()\n",
    "initial_population = np.tile(initial_population, (sol_per_pop, 1))\n",
    "initial_population = initial_population + 0*np.random.randint(0, 5, size=initial_population.shape) * 24 * 60 * 60"
   ]
  },
  {
   "cell_type": "code",
   "execution_count": 177,
   "metadata": {},
   "outputs": [
    {
     "name": "stdout",
     "output_type": "stream",
     "text": [
      "Generation = 1\n",
      "Fitness    = -7.639587725377334\n",
      "Generation = 2\n",
      "Fitness    = -7.639587725377334\n",
      "Generation = 3\n",
      "Fitness    = -7.639587695641351\n",
      "Generation = 4\n",
      "Fitness    = -7.639587695641351\n",
      "Generation = 5\n",
      "Fitness    = -7.639587695641351\n",
      "Generation = 6\n",
      "Fitness    = -7.63958767129234\n",
      "Generation = 7\n",
      "Fitness    = -7.639587490967912\n",
      "Generation = 8\n",
      "Fitness    = -7.639587356615934\n",
      "Generation = 9\n",
      "Fitness    = -7.6395871201468815\n",
      "Generation = 10\n",
      "Fitness    = -7.639586819895106\n",
      "Generation = 11\n",
      "Fitness    = -7.639586819895106\n",
      "Generation = 12\n",
      "Fitness    = -7.639586593253547\n",
      "Generation = 13\n",
      "Fitness    = -7.639586481222645\n",
      "Generation = 14\n",
      "Fitness    = -7.639586392881567\n",
      "Generation = 15\n",
      "Fitness    = -7.639586271031334\n",
      "Generation = 16\n",
      "Fitness    = -7.639586081222184\n",
      "Generation = 17\n",
      "Fitness    = -7.639585734353831\n",
      "Generation = 18\n",
      "Fitness    = -7.639585734353831\n",
      "Generation = 19\n",
      "Fitness    = -7.639585696725797\n",
      "Generation = 20\n",
      "Fitness    = -7.6395854784133\n",
      "Generation = 21\n",
      "Fitness    = -7.639585221740752\n",
      "Generation = 22\n",
      "Fitness    = -7.639584837831933\n",
      "Generation = 23\n",
      "Fitness    = -7.639584807414581\n",
      "Generation = 24\n",
      "Fitness    = -7.639584377966576\n",
      "Generation = 25\n",
      "Fitness    = -7.639584373927335\n",
      "Generation = 26\n",
      "Fitness    = -7.639584373927335\n",
      "Generation = 27\n",
      "Fitness    = -7.639584373927335\n",
      "Generation = 28\n",
      "Fitness    = -7.639584113869427\n",
      "Generation = 29\n",
      "Fitness    = -7.639583675205447\n",
      "Generation = 30\n",
      "Fitness    = -7.639583675205447\n",
      "Generation = 31\n",
      "Fitness    = -7.639583663558621\n",
      "Generation = 32\n",
      "Fitness    = -7.639583245866637\n",
      "Generation = 33\n",
      "Fitness    = -7.639583044364322\n",
      "Generation = 34\n",
      "Fitness    = -7.6395828499680345\n",
      "Generation = 35\n",
      "Fitness    = -7.639582660894936\n",
      "Generation = 36\n",
      "Fitness    = -7.639582522955134\n",
      "Generation = 37\n",
      "Fitness    = -7.639582395686823\n",
      "Generation = 38\n",
      "Fitness    = -7.639582046688449\n",
      "Generation = 39\n",
      "Fitness    = -7.639581804259295\n",
      "Generation = 40\n",
      "Fitness    = -7.639581804259295\n",
      "Generation = 41\n",
      "Fitness    = -7.63958161370156\n",
      "Generation = 42\n",
      "Fitness    = -7.6395812652548845\n",
      "Generation = 43\n",
      "Fitness    = -7.639581215439\n",
      "Generation = 44\n",
      "Fitness    = -7.639581041470873\n",
      "Generation = 45\n",
      "Fitness    = -7.639580931903321\n",
      "Generation = 46\n",
      "Fitness    = -7.639580768853387\n",
      "Generation = 47\n",
      "Fitness    = -7.639580398928681\n",
      "Generation = 48\n",
      "Fitness    = -7.639580271503366\n",
      "Generation = 49\n",
      "Fitness    = -7.6395801060389665\n",
      "Generation = 50\n",
      "Fitness    = -7.6395801060389665\n",
      "Generation = 51\n",
      "Fitness    = -7.639579788028485\n",
      "Generation = 52\n",
      "Fitness    = -7.6395797144498605\n",
      "Generation = 53\n",
      "Fitness    = -7.639579403849526\n",
      "Generation = 54\n",
      "Fitness    = -7.639579388996422\n",
      "Generation = 55\n",
      "Fitness    = -7.639579221931152\n",
      "Generation = 56\n",
      "Fitness    = -7.639579056611062\n",
      "Generation = 57\n",
      "Fitness    = -7.639578784112764\n",
      "Generation = 58\n",
      "Fitness    = -7.639578546747753\n",
      "Generation = 59\n",
      "Fitness    = -7.639578194765448\n",
      "Generation = 60\n",
      "Fitness    = -7.639578070617297\n",
      "Generation = 61\n",
      "Fitness    = -7.6395779158582755\n",
      "Generation = 62\n",
      "Fitness    = -7.639577491327847\n",
      "Generation = 63\n",
      "Fitness    = -7.639577394511781\n",
      "Generation = 64\n",
      "Fitness    = -7.639577139699362\n",
      "Generation = 65\n",
      "Fitness    = -7.639576926670557\n",
      "Generation = 66\n",
      "Fitness    = -7.639576701904346\n",
      "Generation = 67\n",
      "Fitness    = -7.639576382705275\n",
      "Generation = 68\n",
      "Fitness    = -7.63957597284268\n",
      "Generation = 69\n",
      "Fitness    = -7.63957597284268\n",
      "Generation = 70\n",
      "Fitness    = -7.639575870689111\n",
      "Generation = 71\n",
      "Fitness    = -7.639575615100483\n",
      "Generation = 72\n",
      "Fitness    = -7.639575398319378\n",
      "Generation = 73\n",
      "Fitness    = -7.639575146383956\n",
      "Generation = 74\n",
      "Fitness    = -7.639574752612445\n",
      "Generation = 75\n",
      "Fitness    = -7.639574733978479\n",
      "Generation = 76\n",
      "Fitness    = -7.639574623007505\n",
      "Generation = 77\n",
      "Fitness    = -7.639574345873832\n",
      "Generation = 78\n",
      "Fitness    = -7.639573943154222\n",
      "Generation = 79\n",
      "Fitness    = -7.639573646882285\n",
      "Generation = 80\n",
      "Fitness    = -7.6395736342629466\n",
      "Generation = 81\n",
      "Fitness    = -7.639573314625217\n",
      "Generation = 82\n",
      "Fitness    = -7.639573143133735\n",
      "Generation = 83\n",
      "Fitness    = -7.639572899945184\n",
      "Generation = 84\n",
      "Fitness    = -7.639572773138402\n",
      "Generation = 85\n",
      "Fitness    = -7.639572591438375\n",
      "Generation = 86\n",
      "Fitness    = -7.639572394929106\n",
      "Generation = 87\n",
      "Fitness    = -7.639572293332018\n",
      "Generation = 88\n",
      "Fitness    = -7.639571993828305\n",
      "Generation = 89\n",
      "Fitness    = -7.639571680092109\n",
      "Generation = 90\n",
      "Fitness    = -7.639571632821024\n",
      "Generation = 91\n",
      "Fitness    = -7.639571351642433\n",
      "Generation = 92\n",
      "Fitness    = -7.639571331815571\n",
      "Generation = 93\n",
      "Fitness    = -7.639571026739759\n",
      "Generation = 94\n",
      "Fitness    = -7.639570794353196\n",
      "Generation = 95\n",
      "Fitness    = -7.639570333406148\n",
      "Generation = 96\n",
      "Fitness    = -7.639570330475143\n",
      "Generation = 97\n",
      "Fitness    = -7.639569968086226\n",
      "Generation = 98\n",
      "Fitness    = -7.63956980839097\n",
      "Generation = 99\n",
      "Fitness    = -7.639569395542265\n",
      "Generation = 100\n",
      "Fitness    = -7.639569395542265\n",
      "Generation = 101\n",
      "Fitness    = -7.639568912064616\n",
      "Generation = 102\n",
      "Fitness    = -7.639568909213894\n",
      "Generation = 103\n",
      "Fitness    = -7.6395688805560145\n",
      "Generation = 104\n",
      "Fitness    = -7.639568669950259\n",
      "Generation = 105\n",
      "Fitness    = -7.639568322653673\n",
      "Generation = 106\n",
      "Fitness    = -7.639568045070764\n",
      "Generation = 107\n",
      "Fitness    = -7.639567798543563\n",
      "Generation = 108\n",
      "Fitness    = -7.639567774887247\n",
      "Generation = 109\n",
      "Fitness    = -7.639567509771938\n",
      "Generation = 110\n",
      "Fitness    = -7.639567425374626\n",
      "Generation = 111\n",
      "Fitness    = -7.639567185852965\n",
      "Generation = 112\n",
      "Fitness    = -7.639566925510401\n",
      "Generation = 113\n",
      "Fitness    = -7.639566592659861\n",
      "Generation = 114\n",
      "Fitness    = -7.639566592659861\n",
      "Generation = 115\n",
      "Fitness    = -7.639566323985386\n",
      "Generation = 116\n",
      "Fitness    = -7.6395658717317705\n",
      "Generation = 117\n",
      "Fitness    = -7.639565475566426\n",
      "Generation = 118\n",
      "Fitness    = -7.639565358637029\n",
      "Generation = 119\n",
      "Fitness    = -7.639565229794837\n",
      "Generation = 120\n",
      "Fitness    = -7.6395649664602665\n",
      "Generation = 121\n",
      "Fitness    = -7.639564745567007\n",
      "Generation = 122\n",
      "Fitness    = -7.639564597475973\n",
      "Generation = 123\n",
      "Fitness    = -7.639564532137445\n",
      "Generation = 124\n",
      "Fitness    = -7.639564373802731\n",
      "Generation = 125\n",
      "Fitness    = -7.639564215346272\n",
      "Generation = 126\n",
      "Fitness    = -7.639563869416985\n",
      "Generation = 127\n",
      "Fitness    = -7.639563506783691\n",
      "Generation = 128\n",
      "Fitness    = -7.639563506783691\n",
      "Generation = 129\n",
      "Fitness    = -7.639563298944019\n",
      "Generation = 130\n",
      "Fitness    = -7.639562894803115\n",
      "Generation = 131\n",
      "Fitness    = -7.6395627696228345\n",
      "Generation = 132\n",
      "Fitness    = -7.639562395036231\n",
      "Generation = 133\n",
      "Fitness    = -7.639562395036231\n",
      "Generation = 134\n",
      "Fitness    = -7.639562190918184\n",
      "Generation = 135\n",
      "Fitness    = -7.639562013207659\n",
      "Generation = 136\n",
      "Fitness    = -7.639561758639481\n",
      "Generation = 137\n",
      "Fitness    = -7.639561452775553\n",
      "Generation = 138\n",
      "Fitness    = -7.639561165400075\n",
      "Generation = 139\n",
      "Fitness    = -7.639560897996413\n",
      "Generation = 140\n",
      "Fitness    = -7.639560620023969\n",
      "Generation = 141\n",
      "Fitness    = -7.639560262352537\n",
      "Generation = 142\n",
      "Fitness    = -7.639560162304356\n",
      "Generation = 143\n",
      "Fitness    = -7.639559968140437\n",
      "Generation = 144\n",
      "Fitness    = -7.6395597452907165\n",
      "Generation = 145\n",
      "Fitness    = -7.639559633168318\n",
      "Generation = 146\n",
      "Fitness    = -7.63955906877913\n",
      "Generation = 147\n",
      "Fitness    = -7.63955906877913\n",
      "Generation = 148\n",
      "Fitness    = -7.6395587384691055\n",
      "Generation = 149\n",
      "Fitness    = -7.639558521555523\n",
      "Generation = 150\n",
      "Fitness    = -7.639558417807512\n",
      "Generation = 151\n",
      "Fitness    = -7.639557915415184\n",
      "Generation = 152\n",
      "Fitness    = -7.639557902119673\n",
      "Generation = 153\n",
      "Fitness    = -7.639557631063392\n",
      "Generation = 154\n",
      "Fitness    = -7.639557437084761\n",
      "Generation = 155\n",
      "Fitness    = -7.639557108487894\n",
      "Generation = 156\n",
      "Fitness    = -7.639556762729075\n",
      "Generation = 157\n",
      "Fitness    = -7.639556762729075\n",
      "Generation = 158\n",
      "Fitness    = -7.639556457959438\n",
      "Generation = 159\n",
      "Fitness    = -7.6395563210197555\n",
      "Generation = 160\n",
      "Fitness    = -7.63955598356317\n",
      "Generation = 161\n",
      "Fitness    = -7.639555727412326\n",
      "Generation = 162\n",
      "Fitness    = -7.63955545277509\n",
      "Generation = 163\n",
      "Fitness    = -7.6395553476315605\n",
      "Generation = 164\n",
      "Fitness    = -7.639555204983864\n",
      "Generation = 165\n",
      "Fitness    = -7.639554747177108\n",
      "Generation = 166\n",
      "Fitness    = -7.639554747177108\n",
      "Generation = 167\n",
      "Fitness    = -7.639554511503267\n",
      "Generation = 168\n",
      "Fitness    = -7.639554158447742\n",
      "Generation = 169\n",
      "Fitness    = -7.639553752388467\n",
      "Generation = 170\n",
      "Fitness    = -7.639553752388467\n",
      "Generation = 171\n",
      "Fitness    = -7.639553576688165\n",
      "Generation = 172\n",
      "Fitness    = -7.63955325707871\n",
      "Generation = 173\n",
      "Fitness    = -7.6395530519405455\n",
      "Generation = 174\n",
      "Fitness    = -7.639552985148981\n",
      "Generation = 175\n",
      "Fitness    = -7.6395528115915265\n",
      "Generation = 176\n",
      "Fitness    = -7.639552609433833\n",
      "Generation = 177\n",
      "Fitness    = -7.639552279153829\n",
      "Generation = 178\n",
      "Fitness    = -7.639552101965446\n",
      "Generation = 179\n",
      "Fitness    = -7.63955181961718\n",
      "Generation = 180\n",
      "Fitness    = -7.639551559669593\n",
      "Generation = 181\n",
      "Fitness    = -7.639551062475743\n",
      "Generation = 182\n",
      "Fitness    = -7.639550956425294\n",
      "Generation = 183\n",
      "Fitness    = -7.639550891494645\n",
      "Generation = 184\n",
      "Fitness    = -7.639550599319454\n",
      "Generation = 185\n",
      "Fitness    = -7.63955031171697\n",
      "Generation = 186\n",
      "Fitness    = -7.639550206913553\n",
      "Generation = 187\n",
      "Fitness    = -7.6395498797613755\n",
      "Generation = 188\n",
      "Fitness    = -7.639549578563701\n",
      "Generation = 189\n",
      "Fitness    = -7.639549299028509\n",
      "Generation = 190\n",
      "Fitness    = -7.639549202370768\n",
      "Generation = 191\n",
      "Fitness    = -7.639549051465611\n",
      "Generation = 192\n",
      "Fitness    = -7.639548680137041\n",
      "Generation = 193\n",
      "Fitness    = -7.639548481122645\n",
      "Generation = 194\n",
      "Fitness    = -7.63954828971263\n",
      "Generation = 195\n",
      "Fitness    = -7.639547641834568\n",
      "Generation = 196\n",
      "Fitness    = -7.639547641834568\n",
      "Generation = 197\n",
      "Fitness    = -7.639547641834568\n",
      "Generation = 198\n",
      "Fitness    = -7.639547305402809\n",
      "Generation = 199\n",
      "Fitness    = -7.63954698780346\n",
      "Generation = 200\n",
      "Fitness    = -7.63954673123348\n",
      "Generation = 201\n",
      "Fitness    = -7.639546601544682\n",
      "Generation = 202\n",
      "Fitness    = -7.639546302109531\n",
      "Generation = 203\n",
      "Fitness    = -7.639546098846587\n",
      "Generation = 204\n",
      "Fitness    = -7.639545945001247\n",
      "Generation = 205\n",
      "Fitness    = -7.639545683654225\n",
      "Generation = 206\n",
      "Fitness    = -7.639545560318037\n",
      "Generation = 207\n",
      "Fitness    = -7.639545472176978\n",
      "Generation = 208\n",
      "Fitness    = -7.639545101778021\n",
      "Generation = 209\n",
      "Fitness    = -7.639545029524458\n",
      "Generation = 210\n",
      "Fitness    = -7.639544544265101\n",
      "Generation = 211\n",
      "Fitness    = -7.639544303160129\n",
      "Generation = 212\n",
      "Fitness    = -7.639544303160129\n",
      "Generation = 213\n",
      "Fitness    = -7.639544058969772\n",
      "Generation = 214\n",
      "Fitness    = -7.639543628699313\n",
      "Generation = 215\n",
      "Fitness    = -7.639543594447842\n",
      "Generation = 216\n",
      "Fitness    = -7.639543502187484\n",
      "Generation = 217\n",
      "Fitness    = -7.639543286327264\n",
      "Generation = 218\n",
      "Fitness    = -7.639543113133108\n",
      "Generation = 219\n",
      "Fitness    = -7.639542824048968\n",
      "Generation = 220\n",
      "Fitness    = -7.639542824048968\n",
      "Generation = 221\n",
      "Fitness    = -7.6395425013157965\n",
      "Generation = 222\n",
      "Fitness    = -7.6395425013157965\n",
      "Generation = 223\n",
      "Fitness    = -7.639542174539676\n",
      "Generation = 224\n",
      "Fitness    = -7.639542033262334\n",
      "Generation = 225\n",
      "Fitness    = -7.639541768631162\n",
      "Generation = 226\n",
      "Fitness    = -7.639541267916725\n",
      "Generation = 227\n",
      "Fitness    = -7.639541073773884\n",
      "Generation = 228\n",
      "Fitness    = -7.639540851315363\n",
      "Generation = 229\n",
      "Fitness    = -7.639540652171773\n",
      "Generation = 230\n",
      "Fitness    = -7.639540652171773\n",
      "Generation = 231\n",
      "Fitness    = -7.639540122760039\n",
      "Generation = 232\n",
      "Fitness    = -7.639539973137239\n",
      "Generation = 233\n",
      "Fitness    = -7.6395397353341306\n",
      "Generation = 234\n",
      "Fitness    = -7.6395395471363265\n",
      "Generation = 235\n",
      "Fitness    = -7.6395392318008835\n",
      "Generation = 236\n",
      "Fitness    = -7.639538810662923\n",
      "Generation = 237\n",
      "Fitness    = -7.6395387543892\n",
      "Generation = 238\n",
      "Fitness    = -7.639538577811129\n",
      "Generation = 239\n",
      "Fitness    = -7.6395380813282685\n",
      "Generation = 240\n",
      "Fitness    = -7.6395377955039585\n",
      "Generation = 241\n",
      "Fitness    = -7.6395377955039585\n",
      "Generation = 242\n",
      "Fitness    = -7.639537516186481\n",
      "Generation = 243\n",
      "Fitness    = -7.639537404446001\n",
      "Generation = 244\n",
      "Fitness    = -7.639537039736414\n",
      "Generation = 245\n",
      "Fitness    = -7.639537039736414\n",
      "Generation = 246\n",
      "Fitness    = -7.639536854518221\n",
      "Generation = 247\n",
      "Fitness    = -7.639536550341239\n",
      "Generation = 248\n",
      "Fitness    = -7.639536298167208\n",
      "Generation = 249\n",
      "Fitness    = -7.639535943808095\n",
      "Generation = 250\n",
      "Fitness    = -7.639535886129931\n",
      "Generation = 251\n",
      "Fitness    = -7.639535665310504\n",
      "Generation = 252\n",
      "Fitness    = -7.639535511192639\n",
      "Generation = 253\n",
      "Fitness    = -7.639535322835229\n",
      "Generation = 254\n",
      "Fitness    = -7.639535023441583\n",
      "Generation = 255\n",
      "Fitness    = -7.639534582650418\n",
      "Generation = 256\n",
      "Fitness    = -7.639534582650418\n",
      "Generation = 257\n",
      "Fitness    = -7.639534327227736\n",
      "Generation = 258\n",
      "Fitness    = -7.63953409181636\n",
      "Generation = 259\n",
      "Fitness    = -7.63953409181636\n",
      "Generation = 260\n",
      "Fitness    = -7.639533628999462\n",
      "Generation = 261\n",
      "Fitness    = -7.639533597480652\n",
      "Generation = 262\n",
      "Fitness    = -7.639533235151712\n",
      "Generation = 263\n",
      "Fitness    = -7.639532930824089\n",
      "Generation = 264\n",
      "Fitness    = -7.6395326048792604\n",
      "Generation = 265\n",
      "Fitness    = -7.63953249138987\n",
      "Generation = 266\n",
      "Fitness    = -7.639532051641368\n",
      "Generation = 267\n",
      "Fitness    = -7.639532004870773\n",
      "Generation = 268\n",
      "Fitness    = -7.639531863997808\n",
      "Generation = 269\n",
      "Fitness    = -7.639531608354051\n",
      "Generation = 270\n",
      "Fitness    = -7.639531473221682\n",
      "Generation = 271\n",
      "Fitness    = -7.639531162342951\n",
      "Generation = 272\n",
      "Fitness    = -7.639531107356914\n",
      "Generation = 273\n",
      "Fitness    = -7.639530931685957\n",
      "Generation = 274\n",
      "Fitness    = -7.639530500412741\n",
      "Generation = 275\n",
      "Fitness    = -7.639530484728251\n",
      "Generation = 276\n",
      "Fitness    = -7.639530378297776\n",
      "Generation = 277\n",
      "Fitness    = -7.639530288078804\n",
      "Generation = 278\n",
      "Fitness    = -7.639530021185028\n",
      "Generation = 279\n",
      "Fitness    = -7.639529945018046\n",
      "Generation = 280\n",
      "Fitness    = -7.639529545384715\n",
      "Generation = 281\n",
      "Fitness    = -7.639529231254693\n",
      "Generation = 282\n",
      "Fitness    = -7.639528887182301\n",
      "Generation = 283\n",
      "Fitness    = -7.639528673947977\n",
      "Generation = 284\n",
      "Fitness    = -7.639528533057069\n",
      "Generation = 285\n",
      "Fitness    = -7.639528259945642\n",
      "Generation = 286\n",
      "Fitness    = -7.639528223216709\n",
      "Generation = 287\n",
      "Fitness    = -7.639527959132019\n",
      "Generation = 288\n",
      "Fitness    = -7.639527795744209\n",
      "Generation = 289\n",
      "Fitness    = -7.639527499036346\n",
      "Generation = 290\n",
      "Fitness    = -7.6395273516062066\n",
      "Generation = 291\n",
      "Fitness    = -7.63952708294992\n",
      "Generation = 292\n",
      "Fitness    = -7.639527027165043\n",
      "Generation = 293\n",
      "Fitness    = -7.639526718915894\n",
      "Generation = 294\n",
      "Fitness    = -7.63952657410082\n",
      "Generation = 295\n",
      "Fitness    = -7.639526125552306\n",
      "Generation = 296\n",
      "Fitness    = -7.63952585856541\n",
      "Generation = 297\n",
      "Fitness    = -7.6395255747098805\n",
      "Generation = 298\n",
      "Fitness    = -7.63952524649584\n",
      "Generation = 299\n",
      "Fitness    = -7.63952524649584\n",
      "Generation = 300\n",
      "Fitness    = -7.639524985890121\n",
      "Generation = 301\n",
      "Fitness    = -7.639524949519155\n",
      "Generation = 302\n",
      "Fitness    = -7.639524863492953\n",
      "Generation = 303\n",
      "Fitness    = -7.639524572074196\n",
      "Generation = 304\n",
      "Fitness    = -7.639524464897994\n",
      "Generation = 305\n",
      "Fitness    = -7.639524202478023\n",
      "Generation = 306\n",
      "Fitness    = -7.639523865051666\n",
      "Generation = 307\n",
      "Fitness    = -7.639523322059478\n",
      "Generation = 308\n",
      "Fitness    = -7.639523215368364\n",
      "Generation = 309\n",
      "Fitness    = -7.639523151470275\n",
      "Generation = 310\n",
      "Fitness    = -7.639522694698288\n",
      "Generation = 311\n",
      "Fitness    = -7.639522468966547\n",
      "Generation = 312\n",
      "Fitness    = -7.639522303066014\n",
      "Generation = 313\n",
      "Fitness    = -7.63952204810543\n",
      "Generation = 314\n",
      "Fitness    = -7.639521785663103\n",
      "Generation = 315\n",
      "Fitness    = -7.639521349169156\n",
      "Generation = 316\n",
      "Fitness    = -7.639521349169156\n",
      "Generation = 317\n",
      "Fitness    = -7.639521021224287\n",
      "Generation = 318\n",
      "Fitness    = -7.639520918947344\n",
      "Generation = 319\n",
      "Fitness    = -7.639520758501149\n",
      "Generation = 320\n",
      "Fitness    = -7.639520290125047\n",
      "Generation = 321\n",
      "Fitness    = -7.639520112269151\n",
      "Generation = 322\n",
      "Fitness    = -7.639519806067755\n",
      "Generation = 323\n",
      "Fitness    = -7.6395196773009\n",
      "Generation = 324\n",
      "Fitness    = -7.639519279054923\n",
      "Generation = 325\n",
      "Fitness    = -7.639518885713731\n",
      "Generation = 326\n",
      "Fitness    = -7.639518885713731\n",
      "Generation = 327\n",
      "Fitness    = -7.639518657969916\n",
      "Generation = 328\n",
      "Fitness    = -7.639518611361606\n",
      "Generation = 329\n",
      "Fitness    = -7.639518383956938\n",
      "Generation = 330\n",
      "Fitness    = -7.6395181590335515\n",
      "Generation = 331\n",
      "Fitness    = -7.639517996696634\n",
      "Generation = 332\n",
      "Fitness    = -7.639517870710945\n",
      "Generation = 333\n",
      "Fitness    = -7.639517678869009\n",
      "Generation = 334\n",
      "Fitness    = -7.639517365075751\n",
      "Generation = 335\n",
      "Fitness    = -7.6395169397844835\n",
      "Generation = 336\n",
      "Fitness    = -7.6395169397844835\n",
      "Generation = 337\n",
      "Fitness    = -7.639516798269243\n",
      "Generation = 338\n",
      "Fitness    = -7.639516528315053\n",
      "Generation = 339\n",
      "Fitness    = -7.639516443482357\n",
      "Generation = 340\n",
      "Fitness    = -7.639515451893153\n",
      "Generation = 341\n",
      "Fitness    = -7.639515451893153\n",
      "Generation = 342\n",
      "Fitness    = -7.639515451893153\n",
      "Generation = 343\n",
      "Fitness    = -7.639515348430759\n",
      "Generation = 344\n",
      "Fitness    = -7.639514954671272\n",
      "Generation = 345\n",
      "Fitness    = -7.639514686860371\n",
      "Generation = 346\n",
      "Fitness    = -7.6395144392615695\n",
      "Generation = 347\n",
      "Fitness    = -7.639514156816398\n",
      "Generation = 348\n",
      "Fitness    = -7.639513992747599\n",
      "Generation = 349\n",
      "Fitness    = -7.639513875410412\n",
      "Generation = 350\n",
      "Fitness    = -7.63951359550399\n",
      "Generation = 351\n",
      "Fitness    = -7.639513363751922\n",
      "Generation = 352\n",
      "Fitness    = -7.6395130291866895\n",
      "Generation = 353\n",
      "Fitness    = -7.639512863133705\n",
      "Generation = 354\n",
      "Fitness    = -7.639512803447033\n",
      "Generation = 355\n",
      "Fitness    = -7.639512578670157\n",
      "Generation = 356\n",
      "Fitness    = -7.63951218292533\n",
      "Generation = 357\n",
      "Fitness    = -7.63951218292533\n",
      "Generation = 358\n",
      "Fitness    = -7.639511823761678\n",
      "Generation = 359\n",
      "Fitness    = -7.639511623625353\n",
      "Generation = 360\n",
      "Fitness    = -7.6395114362362175\n",
      "Generation = 361\n",
      "Fitness    = -7.639510825380642\n",
      "Generation = 362\n",
      "Fitness    = -7.639510825380642\n",
      "Generation = 363\n",
      "Fitness    = -7.6395107395123905\n",
      "Generation = 364\n",
      "Fitness    = -7.639510499271845\n",
      "Generation = 365\n",
      "Fitness    = -7.6395101953427105\n",
      "Generation = 366\n",
      "Fitness    = -7.639510069465221\n",
      "Generation = 367\n",
      "Fitness    = -7.639510021552756\n",
      "Generation = 368\n",
      "Fitness    = -7.639509534867276\n",
      "Generation = 369\n",
      "Fitness    = -7.639509534867276\n",
      "Generation = 370\n",
      "Fitness    = -7.639509450915973\n",
      "Generation = 371\n",
      "Fitness    = -7.6395088070577\n",
      "Generation = 372\n",
      "Fitness    = -7.6395088070577\n",
      "Generation = 373\n",
      "Fitness    = -7.63950851087937\n",
      "Generation = 374\n",
      "Fitness    = -7.639508280070892\n",
      "Generation = 375\n",
      "Fitness    = -7.639507961220133\n",
      "Generation = 376\n",
      "Fitness    = -7.639507849625714\n",
      "Generation = 377\n",
      "Fitness    = -7.639507668929493\n",
      "Generation = 378\n",
      "Fitness    = -7.639507376857299\n",
      "Generation = 379\n",
      "Fitness    = -7.639507305151174\n",
      "Generation = 380\n",
      "Fitness    = -7.6395070368019375\n",
      "Generation = 381\n",
      "Fitness    = -7.639506795971661\n",
      "Generation = 382\n",
      "Fitness    = -7.639506238578427\n",
      "Generation = 383\n",
      "Fitness    = -7.639506238578427\n",
      "Generation = 384\n",
      "Fitness    = -7.639506028057262\n",
      "Generation = 385\n",
      "Fitness    = -7.639506028057262\n",
      "Generation = 386\n",
      "Fitness    = -7.639505714613186\n",
      "Generation = 387\n",
      "Fitness    = -7.639505580497833\n",
      "Generation = 388\n",
      "Fitness    = -7.63950543535219\n",
      "Generation = 389\n",
      "Fitness    = -7.639505264905312\n",
      "Generation = 390\n",
      "Fitness    = -7.639504818918057\n",
      "Generation = 391\n",
      "Fitness    = -7.639504441701952\n",
      "Generation = 392\n",
      "Fitness    = -7.639504414955663\n",
      "Generation = 393\n",
      "Fitness    = -7.639504034172436\n",
      "Generation = 394\n",
      "Fitness    = -7.639503544266255\n",
      "Generation = 395\n",
      "Fitness    = -7.639503511778056\n",
      "Generation = 396\n",
      "Fitness    = -7.63950343367358\n",
      "Generation = 397\n",
      "Fitness    = -7.6395032080782865\n",
      "Generation = 398\n",
      "Fitness    = -7.639502829810304\n",
      "Generation = 399\n",
      "Fitness    = -7.639502540533989\n",
      "Generation = 400\n",
      "Fitness    = -7.639502326416709\n",
      "Generation = 401\n",
      "Fitness    = -7.639502111472774\n",
      "Generation = 402\n",
      "Fitness    = -7.639502111472774\n",
      "Generation = 403\n",
      "Fitness    = -7.639501794509908\n",
      "Generation = 404\n",
      "Fitness    = -7.639501480431418\n",
      "Generation = 405\n",
      "Fitness    = -7.639501444537402\n",
      "Generation = 406\n",
      "Fitness    = -7.639501239380575\n",
      "Generation = 407\n",
      "Fitness    = -7.6395010502513845\n",
      "Generation = 408\n",
      "Fitness    = -7.639500688177083\n",
      "Generation = 409\n",
      "Fitness    = -7.639500688177083\n",
      "Generation = 410\n",
      "Fitness    = -7.639500377129517\n",
      "Generation = 411\n",
      "Fitness    = -7.6395001968036595\n",
      "Generation = 412\n",
      "Fitness    = -7.639500027235258\n",
      "Generation = 413\n",
      "Fitness    = -7.639499674073562\n",
      "Generation = 414\n",
      "Fitness    = -7.639499516466726\n",
      "Generation = 415\n",
      "Fitness    = -7.639499414168785\n",
      "Generation = 416\n",
      "Fitness    = -7.639499179022982\n",
      "Generation = 417\n",
      "Fitness    = -7.639498985473063\n",
      "Generation = 418\n",
      "Fitness    = -7.63949847826658\n",
      "Generation = 419\n",
      "Fitness    = -7.639498471235992\n",
      "Generation = 420\n",
      "Fitness    = -7.6394982836239524\n",
      "Generation = 421\n",
      "Fitness    = -7.639497931290004\n",
      "Generation = 422\n",
      "Fitness    = -7.639497931290004\n",
      "Generation = 423\n",
      "Fitness    = -7.639497756995709\n",
      "Generation = 424\n",
      "Fitness    = -7.639497196431494\n",
      "Generation = 425\n",
      "Fitness    = -7.639497056292209\n",
      "Generation = 426\n",
      "Fitness    = -7.6394969460611595\n",
      "Generation = 427\n",
      "Fitness    = -7.639496726054247\n",
      "Generation = 428\n",
      "Fitness    = -7.639496487536547\n",
      "Generation = 429\n",
      "Fitness    = -7.639496070016566\n",
      "Generation = 430\n",
      "Fitness    = -7.6394956905462355\n",
      "Generation = 431\n",
      "Fitness    = -7.6394956905462355\n",
      "Generation = 432\n",
      "Fitness    = -7.639495684264693\n",
      "Generation = 433\n",
      "Fitness    = -7.639495337322277\n",
      "Generation = 434\n",
      "Fitness    = -7.6394949757328074\n",
      "Generation = 435\n",
      "Fitness    = -7.6394949757328074\n",
      "Generation = 436\n",
      "Fitness    = -7.639494890597447\n",
      "Generation = 437\n",
      "Fitness    = -7.639494597602052\n",
      "Generation = 438\n",
      "Fitness    = -7.6394942140938635\n",
      "Generation = 439\n",
      "Fitness    = -7.639494074214836\n",
      "Generation = 440\n",
      "Fitness    = -7.639493807793517\n",
      "Generation = 441\n",
      "Fitness    = -7.639493586237323\n",
      "Generation = 442\n",
      "Fitness    = -7.639493464724572\n",
      "Generation = 443\n",
      "Fitness    = -7.639493216193321\n",
      "Generation = 444\n",
      "Fitness    = -7.639492930465009\n",
      "Generation = 445\n",
      "Fitness    = -7.639492930465009\n",
      "Generation = 446\n",
      "Fitness    = -7.6394924933363235\n",
      "Generation = 447\n",
      "Fitness    = -7.639492310846888\n",
      "Generation = 448\n",
      "Fitness    = -7.639492099838165\n",
      "Generation = 449\n",
      "Fitness    = -7.6394920141046345\n",
      "Generation = 450\n",
      "Fitness    = -7.6394917138592735\n",
      "Generation = 451\n",
      "Fitness    = -7.639491496256744\n",
      "Generation = 452\n",
      "Fitness    = -7.6394912088643245\n",
      "Generation = 453\n",
      "Fitness    = -7.63949110893012\n",
      "Generation = 454\n",
      "Fitness    = -7.639490886003031\n",
      "Generation = 455\n",
      "Fitness    = -7.639490886003031\n",
      "Generation = 456\n",
      "Fitness    = -7.63949033164792\n",
      "Generation = 457\n",
      "Fitness    = -7.639490183097411\n",
      "Generation = 458\n",
      "Fitness    = -7.639490018848241\n",
      "Generation = 459\n",
      "Fitness    = -7.639490018848241\n",
      "Generation = 460\n",
      "Fitness    = -7.639489781019803\n",
      "Generation = 461\n",
      "Fitness    = -7.639489459181842\n",
      "Generation = 462\n",
      "Fitness    = -7.63948909083552\n",
      "Generation = 463\n",
      "Fitness    = -7.639488877809569\n",
      "Generation = 464\n",
      "Fitness    = -7.639488711421693\n",
      "Generation = 465\n",
      "Fitness    = -7.6394884864600865\n",
      "Generation = 466\n",
      "Fitness    = -7.639488265546454\n",
      "Generation = 467\n",
      "Fitness    = -7.6394882020684935\n",
      "Generation = 468\n",
      "Fitness    = -7.639487744770747\n",
      "Generation = 469\n",
      "Fitness    = -7.639487668795676\n",
      "Generation = 470\n",
      "Fitness    = -7.639487572282501\n",
      "Generation = 471\n",
      "Fitness    = -7.639487139912472\n",
      "Generation = 472\n",
      "Fitness    = -7.639486880451024\n",
      "Generation = 473\n",
      "Fitness    = -7.639486675085607\n",
      "Generation = 474\n",
      "Fitness    = -7.639486327031079\n",
      "Generation = 475\n",
      "Fitness    = -7.639486193861837\n",
      "Generation = 476\n",
      "Fitness    = -7.639485945484189\n",
      "Generation = 477\n",
      "Fitness    = -7.639485345813588\n",
      "Generation = 478\n",
      "Fitness    = -7.639485345813588\n",
      "Generation = 479\n",
      "Fitness    = -7.639485163772742\n",
      "Generation = 480\n",
      "Fitness    = -7.63948497840982\n",
      "Generation = 481\n",
      "Fitness    = -7.639484767640491\n",
      "Generation = 482\n",
      "Fitness    = -7.639484555877926\n",
      "Generation = 483\n",
      "Fitness    = -7.639484350670095\n",
      "Generation = 484\n",
      "Fitness    = -7.639484252082557\n",
      "Generation = 485\n",
      "Fitness    = -7.6394839982384735\n",
      "Generation = 486\n",
      "Fitness    = -7.639483675600044\n",
      "Generation = 487\n",
      "Fitness    = -7.639483598947615\n",
      "Generation = 488\n",
      "Fitness    = -7.639483133266516\n",
      "Generation = 489\n",
      "Fitness    = -7.639482690539829\n",
      "Generation = 490\n",
      "Fitness    = -7.639482659016668\n",
      "Generation = 491\n",
      "Fitness    = -7.6394821666680315\n",
      "Generation = 492\n",
      "Fitness    = -7.639482102498414\n",
      "Generation = 493\n",
      "Fitness    = -7.6394819279792685\n",
      "Generation = 494\n",
      "Fitness    = -7.639481772315731\n",
      "Generation = 495\n",
      "Fitness    = -7.639481654610311\n",
      "Generation = 496\n",
      "Fitness    = -7.639481484684884\n",
      "Generation = 497\n",
      "Fitness    = -7.639481305404651\n",
      "Generation = 498\n",
      "Fitness    = -7.639481110585342\n",
      "Generation = 499\n",
      "Fitness    = -7.63948090372369\n"
     ]
    },
    {
     "name": "stderr",
     "output_type": "stream",
     "text": [
      "No artists with labels found to put in legend.  Note that artists whose label start with an underscore are ignored when legend() is called with no argument.\n"
     ]
    },
    {
     "name": "stdout",
     "output_type": "stream",
     "text": [
      "Generation = 500\n",
      "Fitness    = -7.639480734814306\n"
     ]
    },
    {
     "data": {
      "image/png": "[encoded data removed]",
      "text/plain": [
       "<Figure size 640x480 with 1 Axes>"
      ]
     },
     "metadata": {},
     "output_type": "display_data"
    },
    {
     "name": "stdout",
     "output_type": "stream",
     "text": [
      "Fitness value of the best solution = -7.639480734814306\n",
      "Index of the best solution : 34\n"
     ]
    }
   ],
   "source": [
    "ga_instance = pygad.GA(num_generations=num_generations,\n",
    "                       num_parents_mating=num_parents_mating,\n",
    "                       initial_population=initial_population,\n",
    "                       fitness_func=fitness_func,\n",
    "                       mutation_percent_genes=mutation_percent_genes,\n",
    "                       parent_selection_type=parent_selection_type,\n",
    "                       crossover_type=crossover_type,\n",
    "                       mutation_type=mutation_type,\n",
    "                       on_generation=callback_generation)\n",
    "\n",
    "ga_instance.run()\n",
    "ga_instance.plot_fitness()\n",
    "\n",
    "solution, solution_fitness, solution_idx = ga_instance.best_solution()\n",
    "print(f\"Fitness value of the best solution = {solution_fitness}\")\n",
    "print(f\"Index of the best solution : {solution_idx}\")\n"
   ]
  },
  {
   "cell_type": "code",
   "execution_count": 178,
   "metadata": {},
   "outputs": [
    {
     "data": {
      "text/plain": [
       "-0.6049908854065507"
      ]
     },
     "execution_count": 178,
     "metadata": {},
     "output_type": "execute_result"
    }
   ],
   "source": [
    "calculer_cout_(solution.reshape(-1, 2), sejours_resolu, operations) - calculer_cout(sejours_resolu, operations)"
   ]
  },
  {
   "cell_type": "code",
   "execution_count": 179,
   "metadata": {},
   "outputs": [
    {
     "data": {
      "text/plain": [
       "(60, 0)"
      ]
     },
     "execution_count": 179,
     "metadata": {},
     "output_type": "execute_result"
    }
   ],
   "source": [
    "calculer_nb_conflits_urgences_(solution.reshape(-1, 2), sejours_resolu), calculer_nb_conflits_lits(solution.reshape(-1, 2)).sum()"
   ]
  },
  {
   "cell_type": "markdown",
   "metadata": {},
   "source": [
    "# Opérations"
   ]
  },
  {
   "cell_type": "code",
   "execution_count": 25,
   "metadata": {},
   "outputs": [],
   "source": [
    "lookahead = 25\n",
    "start_time = 8*60*60\n",
    "end_time = 17*60*60\n",
    "\n",
    "planning = np.arange(num_salles * lookahead).reshape(num_salles, lookahead)"
   ]
  },
  {
   "cell_type": "code",
   "execution_count": 77,
   "metadata": {},
   "outputs": [],
   "source": [
    "def calculer_temps(planning, operations):\n",
    "    date_offset = np.min(operations.date_rdv)\n",
    "    start_offset = datetime.datetime.fromtimestamp(date_offset).replace(hour=0, minute=0, second=0, microsecond=0).timestamp()\n",
    "\n",
    "    temps = np.zeros(planning.shape)\n",
    "    for i in range(num_salles):\n",
    "        days = 0\n",
    "        time_of_day = start_time\n",
    "        for j in range(lookahead):\n",
    "            time_of_day += operations.duree_op[planning[i, j]]\n",
    "            if time_of_day >= end_time:\n",
    "                days += 1\n",
    "                time_of_day = start_time\n",
    "            temps[i, j] = start_offset + days * 24 * 60 * 60 + time_of_day\n",
    "            \n",
    "    return temps"
   ]
  },
  {
   "cell_type": "code",
   "execution_count": 78,
   "metadata": {},
   "outputs": [],
   "source": [
    "temps = calculer_temps(planning, operations)\n",
    "planning_flat = planning.flatten()\n",
    "\n",
    "dates_debuts = temps.flatten()\n",
    "dates_fins = dates_debuts + operations.duree_op[planning_flat]\n",
    "urgence = operations.urgence[planning_flat]\n",
    "\n",
    "gantt = pd.DataFrame({\n",
    "    'salle': np.repeat(np.arange(num_salles), lookahead),\n",
    "    'date_debut': pd.to_datetime(dates_debuts, unit='s'),\n",
    "    'date_fin': pd.to_datetime(dates_fins, unit='s'),\n",
    "    'urgence': urgence,\n",
    "\n",
    "})"
   ]
  },
  {
   "cell_type": "code",
   "execution_count": 79,
   "metadata": {},
   "outputs": [
    {
     "data": {
      "text/plain": [
       "0     3.010833\n",
       "1     1.329722\n",
       "2     4.046944\n",
       "3     1.361667\n",
       "4     3.885556\n",
       "        ...   \n",
       "95    0.511389\n",
       "96    1.482500\n",
       "97    2.179722\n",
       "98    1.709722\n",
       "99    0.706667\n",
       "Name: duree_op, Length: 100, dtype: float64"
      ]
     },
     "execution_count": 79,
     "metadata": {},
     "output_type": "execute_result"
    }
   ],
   "source": [
    "operations.duree_op[planning_flat] /3600"
   ]
  },
  {
   "cell_type": "markdown",
   "metadata": {},
   "source": [
    "# GANTT patients"
   ]
  },
  {
   "cell_type": "code",
   "execution_count": 80,
   "metadata": {},
   "outputs": [
    {
     "data": {
      "text/html": [
       "<div>\n",
       "<style scoped>\n",
       "    .dataframe tbody tr th:only-of-type {\n",
       "        vertical-align: middle;\n",
       "    }\n",
       "\n",
       "    .dataframe tbody tr th {\n",
       "        vertical-align: top;\n",
       "    }\n",
       "\n",
       "    .dataframe thead th {\n",
       "        text-align: right;\n",
       "    }\n",
       "</style>\n",
       "<table border=\"1\" class=\"dataframe\">\n",
       "  <thead>\n",
       "    <tr style=\"text-align: right;\">\n",
       "      <th></th>\n",
       "      <th>salle</th>\n",
       "      <th>date_debut</th>\n",
       "      <th>date_fin</th>\n",
       "      <th>urgence</th>\n",
       "    </tr>\n",
       "  </thead>\n",
       "  <tbody>\n",
       "    <tr>\n",
       "      <th>0</th>\n",
       "      <td>0</td>\n",
       "      <td>2023-09-14 11:00:39</td>\n",
       "      <td>2023-09-14 14:01:18</td>\n",
       "      <td>False</td>\n",
       "    </tr>\n",
       "    <tr>\n",
       "      <th>1</th>\n",
       "      <td>0</td>\n",
       "      <td>2023-09-14 12:20:26</td>\n",
       "      <td>2023-09-14 13:40:13</td>\n",
       "      <td>False</td>\n",
       "    </tr>\n",
       "    <tr>\n",
       "      <th>2</th>\n",
       "      <td>0</td>\n",
       "      <td>2023-09-14 16:23:15</td>\n",
       "      <td>2023-09-14 20:26:04</td>\n",
       "      <td>True</td>\n",
       "    </tr>\n",
       "    <tr>\n",
       "      <th>3</th>\n",
       "      <td>0</td>\n",
       "      <td>2023-09-15 08:00:00</td>\n",
       "      <td>2023-09-15 09:21:42</td>\n",
       "      <td>True</td>\n",
       "    </tr>\n",
       "    <tr>\n",
       "      <th>4</th>\n",
       "      <td>0</td>\n",
       "      <td>2023-09-15 11:53:08</td>\n",
       "      <td>2023-09-15 15:46:16</td>\n",
       "      <td>False</td>\n",
       "    </tr>\n",
       "    <tr>\n",
       "      <th>...</th>\n",
       "      <td>...</td>\n",
       "      <td>...</td>\n",
       "      <td>...</td>\n",
       "      <td>...</td>\n",
       "    </tr>\n",
       "    <tr>\n",
       "      <th>95</th>\n",
       "      <td>3</td>\n",
       "      <td>2023-09-18 11:03:33</td>\n",
       "      <td>2023-09-18 11:34:14</td>\n",
       "      <td>False</td>\n",
       "    </tr>\n",
       "    <tr>\n",
       "      <th>96</th>\n",
       "      <td>3</td>\n",
       "      <td>2023-09-18 12:32:30</td>\n",
       "      <td>2023-09-18 14:01:27</td>\n",
       "      <td>False</td>\n",
       "    </tr>\n",
       "    <tr>\n",
       "      <th>97</th>\n",
       "      <td>3</td>\n",
       "      <td>2023-09-18 14:43:17</td>\n",
       "      <td>2023-09-18 16:54:04</td>\n",
       "      <td>False</td>\n",
       "    </tr>\n",
       "    <tr>\n",
       "      <th>98</th>\n",
       "      <td>3</td>\n",
       "      <td>2023-09-18 16:25:52</td>\n",
       "      <td>2023-09-18 18:08:27</td>\n",
       "      <td>False</td>\n",
       "    </tr>\n",
       "    <tr>\n",
       "      <th>99</th>\n",
       "      <td>3</td>\n",
       "      <td>2023-09-19 08:00:00</td>\n",
       "      <td>2023-09-19 08:42:24</td>\n",
       "      <td>False</td>\n",
       "    </tr>\n",
       "  </tbody>\n",
       "</table>\n",
       "<p>100 rows × 4 columns</p>\n",
       "</div>"
      ],
      "text/plain": [
       "    salle          date_debut            date_fin  urgence\n",
       "0       0 2023-09-14 11:00:39 2023-09-14 14:01:18    False\n",
       "1       0 2023-09-14 12:20:26 2023-09-14 13:40:13    False\n",
       "2       0 2023-09-14 16:23:15 2023-09-14 20:26:04     True\n",
       "3       0 2023-09-15 08:00:00 2023-09-15 09:21:42     True\n",
       "4       0 2023-09-15 11:53:08 2023-09-15 15:46:16    False\n",
       "..    ...                 ...                 ...      ...\n",
       "95      3 2023-09-18 11:03:33 2023-09-18 11:34:14    False\n",
       "96      3 2023-09-18 12:32:30 2023-09-18 14:01:27    False\n",
       "97      3 2023-09-18 14:43:17 2023-09-18 16:54:04    False\n",
       "98      3 2023-09-18 16:25:52 2023-09-18 18:08:27    False\n",
       "99      3 2023-09-19 08:00:00 2023-09-19 08:42:24    False\n",
       "\n",
       "[100 rows x 4 columns]"
      ]
     },
     "execution_count": 80,
     "metadata": {},
     "output_type": "execute_result"
    }
   ],
   "source": [
    "gantt"
   ]
  },
  {
   "cell_type": "code",
   "execution_count": 70,
   "metadata": {},
   "outputs": [
    {
     "name": "stderr",
     "output_type": "stream",
     "text": [
      "/home/codespace/.local/lib/python3.10/site-packages/_plotly_utils/basevalidators.py:105: FutureWarning:\n",
      "\n",
      "The behavior of DatetimeProperties.to_pydatetime is deprecated, in a future version this will return a Series containing python datetime objects instead of an ndarray. To retain the old behavior, call `np.array` on the result\n",
      "\n"
     ]
    },
    {
     "data": {
      "application/vnd.plotly.v1+json": {
       "config": {
        "plotlyServerURL": "https://plot.ly"
       },
       "data": [
        {
         "alignmentgroup": "True",
         "base": [
          "2023-09-14T11:00:39",
          "2023-09-14T12:20:26",
          "2023-09-15T11:53:08",
          "2023-09-15T15:24:37",
          "2023-09-16T08:00:00",
          "2023-09-16T09:23:45",
          "2023-09-16T12:39:53",
          "2023-09-16T16:57:02",
          "2023-09-17T08:00:00",
          "2023-09-17T08:55:32",
          "2023-09-17T13:10:10",
          "2023-09-18T08:00:00",
          "2023-09-18T08:46:36",
          "2023-09-18T11:36:31",
          "2023-09-18T12:34:50",
          "2023-09-18T16:49:46",
          "2023-09-19T11:01:18",
          "2023-09-19T12:07:02",
          "2023-09-19T16:37:30",
          "2023-09-14T12:22:04",
          "2023-09-15T08:00:00",
          "2023-09-15T11:30:26",
          "2023-09-15T16:05:17",
          "2023-09-16T08:00:00",
          "2023-09-16T09:58:29",
          "2023-09-16T11:27:52",
          "2023-09-16T13:06:49",
          "2023-09-16T15:18:32",
          "2023-09-17T10:58:15",
          "2023-09-18T08:00:00",
          "2023-09-18T10:16:37",
          "2023-09-18T11:38:24",
          "2023-09-18T14:20:18",
          "2023-09-18T15:27:54",
          "2023-09-18T16:33:26",
          "2023-09-19T08:00:00",
          "2023-09-19T09:48:59",
          "2023-09-19T15:48:55",
          "2023-09-20T08:00:00",
          "2023-09-20T11:36:48",
          "2023-09-20T15:20:16",
          "2023-09-14T08:41:42",
          "2023-09-14T13:36:39",
          "2023-09-14T16:03:20",
          "2023-09-15T08:00:00",
          "2023-09-15T10:58:02",
          "2023-09-15T15:04:37",
          "2023-09-16T08:00:00",
          "2023-09-16T09:15:51",
          "2023-09-16T12:31:32",
          "2023-09-16T16:43:00",
          "2023-09-17T08:00:00",
          "2023-09-17T11:56:24",
          "2023-09-17T13:27:54",
          "2023-09-18T08:00:00",
          "2023-09-18T12:33:33",
          "2023-09-18T13:23:25",
          "2023-09-18T14:12:50",
          "2023-09-19T08:00:00",
          "2023-09-19T16:22:10",
          "2023-09-20T08:00:00",
          "2023-09-20T10:59:13",
          "2023-09-20T14:37:41",
          "2023-09-14T08:50:00",
          "2023-09-14T11:42:39",
          "2023-09-14T15:59:38",
          "2023-09-15T10:55:21",
          "2023-09-15T13:47:45",
          "2023-09-15T14:43:13",
          "2023-09-15T16:16:41",
          "2023-09-16T08:00:00",
          "2023-09-16T08:54:10",
          "2023-09-16T10:44:16",
          "2023-09-16T12:08:58",
          "2023-09-16T14:14:22",
          "2023-09-17T08:00:00",
          "2023-09-17T12:59:57",
          "2023-09-17T13:31:18",
          "2023-09-18T08:00:00",
          "2023-09-18T11:03:33",
          "2023-09-18T12:32:30",
          "2023-09-18T14:43:17",
          "2023-09-18T16:25:52",
          "2023-09-19T08:00:00"
         ],
         "hovertemplate": "urgence=False<br>date_debut=%{base}<br>date_fin=%{x}<br>salle=%{y}<extra></extra>",
         "legendgroup": "False",
         "marker": {
          "color": "#636efa",
          "pattern": {
           "shape": ""
          }
         },
         "name": "False",
         "offsetgroup": "False",
         "orientation": "h",
         "showlegend": true,
         "textposition": "auto",
         "type": "bar",
         "x": [
          900000,
          900000,
          900000,
          900000,
          900000,
          900000,
          900000,
          900000,
          900000,
          900000,
          900000,
          900000,
          900000,
          900000,
          900000,
          900000,
          900000,
          900000,
          900000,
          900000,
          900000,
          900000,
          900000,
          900000,
          900000,
          900000,
          900000,
          900000,
          900000,
          900000,
          900000,
          900000,
          900000,
          900000,
          900000,
          900000,
          900000,
          900000,
          900000,
          900000,
          900000,
          900000,
          900000,
          900000,
          900000,
          900000,
          900000,
          900000,
          900000,
          900000,
          900000,
          900000,
          900000,
          900000,
          900000,
          900000,
          900000,
          900000,
          900000,
          900000,
          900000,
          900000,
          900000,
          900000,
          900000,
          900000,
          900000,
          900000,
          900000,
          900000,
          900000,
          900000,
          900000,
          900000,
          900000,
          900000,
          900000,
          900000,
          900000,
          900000,
          900000,
          900000,
          900000,
          900000
         ],
         "xaxis": "x",
         "y": [
          0,
          0,
          0,
          0,
          0,
          0,
          0,
          0,
          0,
          0,
          0,
          0,
          0,
          0,
          0,
          0,
          0,
          0,
          0,
          1,
          1,
          1,
          1,
          1,
          1,
          1,
          1,
          1,
          1,
          1,
          1,
          1,
          1,
          1,
          1,
          1,
          1,
          1,
          1,
          1,
          1,
          2,
          2,
          2,
          2,
          2,
          2,
          2,
          2,
          2,
          2,
          2,
          2,
          2,
          2,
          2,
          2,
          2,
          2,
          2,
          2,
          2,
          2,
          3,
          3,
          3,
          3,
          3,
          3,
          3,
          3,
          3,
          3,
          3,
          3,
          3,
          3,
          3,
          3,
          3,
          3,
          3,
          3,
          3
         ],
         "yaxis": "y"
        },
        {
         "alignmentgroup": "True",
         "base": [
          "2023-09-14T16:23:15",
          "2023-09-15T08:00:00",
          "2023-09-16T13:31:09",
          "2023-09-17T12:04:26",
          "2023-09-19T08:00:00",
          "2023-09-19T08:54:12",
          "2023-09-17T08:00:00",
          "2023-09-17T12:56:12",
          "2023-09-19T12:07:14",
          "2023-09-15T10:07:14",
          "2023-09-19T12:03:54",
          "2023-09-21T08:00:00",
          "2023-09-15T08:00:00",
          "2023-09-16T12:52:19",
          "2023-09-17T16:16:36",
          "2023-09-18T10:32:52"
         ],
         "hovertemplate": "urgence=True<br>date_debut=%{base}<br>date_fin=%{x}<br>salle=%{y}<extra></extra>",
         "legendgroup": "True",
         "marker": {
          "color": "#EF553B",
          "pattern": {
           "shape": ""
          }
         },
         "name": "True",
         "offsetgroup": "True",
         "orientation": "h",
         "showlegend": true,
         "textposition": "auto",
         "type": "bar",
         "x": [
          900000,
          900000,
          900000,
          900000,
          900000,
          900000,
          900000,
          900000,
          900000,
          900000,
          900000,
          900000,
          900000,
          900000,
          900000,
          900000
         ],
         "xaxis": "x",
         "y": [
          0,
          0,
          0,
          0,
          0,
          0,
          1,
          1,
          1,
          2,
          2,
          2,
          3,
          3,
          3,
          3
         ],
         "yaxis": "y"
        }
       ],
       "layout": {
        "barmode": "overlay",
        "legend": {
         "title": {
          "text": "urgence"
         },
         "tracegroupgap": 0
        },
        "margin": {
         "t": 60
        },
        "template": {
         "data": {
          "bar": [
           {
            "error_x": {
             "color": "#2a3f5f"
            },
            "error_y": {
             "color": "#2a3f5f"
            },
            "marker": {
             "line": {
              "color": "#E5ECF6",
              "width": 0.5
             },
             "pattern": {
              "fillmode": "overlay",
              "size": 10,
              "solidity": 0.2
             }
            },
            "type": "bar"
           }
          ],
          "barpolar": [
           {
            "marker": {
             "line": {
              "color": "#E5ECF6",
              "width": 0.5
             },
             "pattern": {
              "fillmode": "overlay",
              "size": 10,
              "solidity": 0.2
             }
            },
            "type": "barpolar"
           }
          ],
          "carpet": [
           {
            "aaxis": {
             "endlinecolor": "#2a3f5f",
             "gridcolor": "white",
             "linecolor": "white",
             "minorgridcolor": "white",
             "startlinecolor": "#2a3f5f"
            },
            "baxis": {
             "endlinecolor": "#2a3f5f",
             "gridcolor": "white",
             "linecolor": "white",
             "minorgridcolor": "white",
             "startlinecolor": "#2a3f5f"
            },
            "type": "carpet"
           }
          ],
          "choropleth": [
           {
            "colorbar": {
             "outlinewidth": 0,
             "ticks": ""
            },
            "type": "choropleth"
           }
          ],
          "contour": [
           {
            "colorbar": {
             "outlinewidth": 0,
             "ticks": ""
            },
            "colorscale": [
             [
              0,
              "#0d0887"
             ],
             [
              0.1111111111111111,
              "#46039f"
             ],
             [
              0.2222222222222222,
              "#7201a8"
             ],
             [
              0.3333333333333333,
              "#9c179e"
             ],
             [
              0.4444444444444444,
              "#bd3786"
             ],
             [
              0.5555555555555556,
              "#d8576b"
             ],
             [
              0.6666666666666666,
              "#ed7953"
             ],
             [
              0.7777777777777778,
              "#fb9f3a"
             ],
             [
              0.8888888888888888,
              "#fdca26"
             ],
             [
              1,
              "#f0f921"
             ]
            ],
            "type": "contour"
           }
          ],
          "contourcarpet": [
           {
            "colorbar": {
             "outlinewidth": 0,
             "ticks": ""
            },
            "type": "contourcarpet"
           }
          ],
          "heatmap": [
           {
            "colorbar": {
             "outlinewidth": 0,
             "ticks": ""
            },
            "colorscale": [
             [
              0,
              "#0d0887"
             ],
             [
              0.1111111111111111,
              "#46039f"
             ],
             [
              0.2222222222222222,
              "#7201a8"
             ],
             [
              0.3333333333333333,
              "#9c179e"
             ],
             [
              0.4444444444444444,
              "#bd3786"
             ],
             [
              0.5555555555555556,
              "#d8576b"
             ],
             [
              0.6666666666666666,
              "#ed7953"
             ],
             [
              0.7777777777777778,
              "#fb9f3a"
             ],
             [
              0.8888888888888888,
              "#fdca26"
             ],
             [
              1,
              "#f0f921"
             ]
            ],
            "type": "heatmap"
           }
          ],
          "heatmapgl": [
           {
            "colorbar": {
             "outlinewidth": 0,
             "ticks": ""
            },
            "colorscale": [
             [
              0,
              "#0d0887"
             ],
             [
              0.1111111111111111,
              "#46039f"
             ],
             [
              0.2222222222222222,
              "#7201a8"
             ],
             [
              0.3333333333333333,
              "#9c179e"
             ],
             [
              0.4444444444444444,
              "#bd3786"
             ],
             [
              0.5555555555555556,
              "#d8576b"
             ],
             [
              0.6666666666666666,
              "#ed7953"
             ],
             [
              0.7777777777777778,
              "#fb9f3a"
             ],
             [
              0.8888888888888888,
              "#fdca26"
             ],
             [
              1,
              "#f0f921"
             ]
            ],
            "type": "heatmapgl"
           }
          ],
          "histogram": [
           {
            "marker": {
             "pattern": {
              "fillmode": "overlay",
              "size": 10,
              "solidity": 0.2
             }
            },
            "type": "histogram"
           }
          ],
          "histogram2d": [
           {
            "colorbar": {
             "outlinewidth": 0,
             "ticks": ""
            },
            "colorscale": [
             [
              0,
              "#0d0887"
             ],
             [
              0.1111111111111111,
              "#46039f"
             ],
             [
              0.2222222222222222,
              "#7201a8"
             ],
             [
              0.3333333333333333,
              "#9c179e"
             ],
             [
              0.4444444444444444,
              "#bd3786"
             ],
             [
              0.5555555555555556,
              "#d8576b"
             ],
             [
              0.6666666666666666,
              "#ed7953"
             ],
             [
              0.7777777777777778,
              "#fb9f3a"
             ],
             [
              0.8888888888888888,
              "#fdca26"
             ],
             [
              1,
              "#f0f921"
             ]
            ],
            "type": "histogram2d"
           }
          ],
          "histogram2dcontour": [
           {
            "colorbar": {
             "outlinewidth": 0,
             "ticks": ""
            },
            "colorscale": [
             [
              0,
              "#0d0887"
             ],
             [
              0.1111111111111111,
              "#46039f"
             ],
             [
              0.2222222222222222,
              "#7201a8"
             ],
             [
              0.3333333333333333,
              "#9c179e"
             ],
             [
              0.4444444444444444,
              "#bd3786"
             ],
             [
              0.5555555555555556,
              "#d8576b"
             ],
             [
              0.6666666666666666,
              "#ed7953"
             ],
             [
              0.7777777777777778,
              "#fb9f3a"
             ],
             [
              0.8888888888888888,
              "#fdca26"
             ],
             [
              1,
              "#f0f921"
             ]
            ],
            "type": "histogram2dcontour"
           }
          ],
          "mesh3d": [
           {
            "colorbar": {
             "outlinewidth": 0,
             "ticks": ""
            },
            "type": "mesh3d"
           }
          ],
          "parcoords": [
           {
            "line": {
             "colorbar": {
              "outlinewidth": 0,
              "ticks": ""
             }
            },
            "type": "parcoords"
           }
          ],
          "pie": [
           {
            "automargin": true,
            "type": "pie"
           }
          ],
          "scatter": [
           {
            "fillpattern": {
             "fillmode": "overlay",
             "size": 10,
             "solidity": 0.2
            },
            "type": "scatter"
           }
          ],
          "scatter3d": [
           {
            "line": {
             "colorbar": {
              "outlinewidth": 0,
              "ticks": ""
             }
            },
            "marker": {
             "colorbar": {
              "outlinewidth": 0,
              "ticks": ""
             }
            },
            "type": "scatter3d"
           }
          ],
          "scattercarpet": [
           {
            "marker": {
             "colorbar": {
              "outlinewidth": 0,
              "ticks": ""
             }
            },
            "type": "scattercarpet"
           }
          ],
          "scattergeo": [
           {
            "marker": {
             "colorbar": {
              "outlinewidth": 0,
              "ticks": ""
             }
            },
            "type": "scattergeo"
           }
          ],
          "scattergl": [
           {
            "marker": {
             "colorbar": {
              "outlinewidth": 0,
              "ticks": ""
             }
            },
            "type": "scattergl"
           }
          ],
          "scattermapbox": [
           {
            "marker": {
             "colorbar": {
              "outlinewidth": 0,
              "ticks": ""
             }
            },
            "type": "scattermapbox"
           }
          ],
          "scatterpolar": [
           {
            "marker": {
             "colorbar": {
              "outlinewidth": 0,
              "ticks": ""
             }
            },
            "type": "scatterpolar"
           }
          ],
          "scatterpolargl": [
           {
            "marker": {
             "colorbar": {
              "outlinewidth": 0,
              "ticks": ""
             }
            },
            "type": "scatterpolargl"
           }
          ],
          "scatterternary": [
           {
            "marker": {
             "colorbar": {
              "outlinewidth": 0,
              "ticks": ""
             }
            },
            "type": "scatterternary"
           }
          ],
          "surface": [
           {
            "colorbar": {
             "outlinewidth": 0,
             "ticks": ""
            },
            "colorscale": [
             [
              0,
              "#0d0887"
             ],
             [
              0.1111111111111111,
              "#46039f"
             ],
             [
              0.2222222222222222,
              "#7201a8"
             ],
             [
              0.3333333333333333,
              "#9c179e"
             ],
             [
              0.4444444444444444,
              "#bd3786"
             ],
             [
              0.5555555555555556,
              "#d8576b"
             ],
             [
              0.6666666666666666,
              "#ed7953"
             ],
             [
              0.7777777777777778,
              "#fb9f3a"
             ],
             [
              0.8888888888888888,
              "#fdca26"
             ],
             [
              1,
              "#f0f921"
             ]
            ],
            "type": "surface"
           }
          ],
          "table": [
           {
            "cells": {
             "fill": {
              "color": "#EBF0F8"
             },
             "line": {
              "color": "white"
             }
            },
            "header": {
             "fill": {
              "color": "#C8D4E3"
             },
             "line": {
              "color": "white"
             }
            },
            "type": "table"
           }
          ]
         },
         "layout": {
          "annotationdefaults": {
           "arrowcolor": "#2a3f5f",
           "arrowhead": 0,
           "arrowwidth": 1
          },
          "autotypenumbers": "strict",
          "coloraxis": {
           "colorbar": {
            "outlinewidth": 0,
            "ticks": ""
           }
          },
          "colorscale": {
           "diverging": [
            [
             0,
             "#8e0152"
            ],
            [
             0.1,
             "#c51b7d"
            ],
            [
             0.2,
             "#de77ae"
            ],
            [
             0.3,
             "#f1b6da"
            ],
            [
             0.4,
             "#fde0ef"
            ],
            [
             0.5,
             "#f7f7f7"
            ],
            [
             0.6,
             "#e6f5d0"
            ],
            [
             0.7,
             "#b8e186"
            ],
            [
             0.8,
             "#7fbc41"
            ],
            [
             0.9,
             "#4d9221"
            ],
            [
             1,
             "#276419"
            ]
           ],
           "sequential": [
            [
             0,
             "#0d0887"
            ],
            [
             0.1111111111111111,
             "#46039f"
            ],
            [
             0.2222222222222222,
             "#7201a8"
            ],
            [
             0.3333333333333333,
             "#9c179e"
            ],
            [
             0.4444444444444444,
             "#bd3786"
            ],
            [
             0.5555555555555556,
             "#d8576b"
            ],
            [
             0.6666666666666666,
             "#ed7953"
            ],
            [
             0.7777777777777778,
             "#fb9f3a"
            ],
            [
             0.8888888888888888,
             "#fdca26"
            ],
            [
             1,
             "#f0f921"
            ]
           ],
           "sequentialminus": [
            [
             0,
             "#0d0887"
            ],
            [
             0.1111111111111111,
             "#46039f"
            ],
            [
             0.2222222222222222,
             "#7201a8"
            ],
            [
             0.3333333333333333,
             "#9c179e"
            ],
            [
             0.4444444444444444,
             "#bd3786"
            ],
            [
             0.5555555555555556,
             "#d8576b"
            ],
            [
             0.6666666666666666,
             "#ed7953"
            ],
            [
             0.7777777777777778,
             "#fb9f3a"
            ],
            [
             0.8888888888888888,
             "#fdca26"
            ],
            [
             1,
             "#f0f921"
            ]
           ]
          },
          "colorway": [
           "#636efa",
           "#EF553B",
           "#00cc96",
           "#ab63fa",
           "#FFA15A",
           "#19d3f3",
           "#FF6692",
           "#B6E880",
           "#FF97FF",
           "#FECB52"
          ],
          "font": {
           "color": "#2a3f5f"
          },
          "geo": {
           "bgcolor": "white",
           "lakecolor": "white",
           "landcolor": "#E5ECF6",
           "showlakes": true,
           "showland": true,
           "subunitcolor": "white"
          },
          "hoverlabel": {
           "align": "left"
          },
          "hovermode": "closest",
          "mapbox": {
           "style": "light"
          },
          "paper_bgcolor": "white",
          "plot_bgcolor": "#E5ECF6",
          "polar": {
           "angularaxis": {
            "gridcolor": "white",
            "linecolor": "white",
            "ticks": ""
           },
           "bgcolor": "#E5ECF6",
           "radialaxis": {
            "gridcolor": "white",
            "linecolor": "white",
            "ticks": ""
           }
          },
          "scene": {
           "xaxis": {
            "backgroundcolor": "#E5ECF6",
            "gridcolor": "white",
            "gridwidth": 2,
            "linecolor": "white",
            "showbackground": true,
            "ticks": "",
            "zerolinecolor": "white"
           },
           "yaxis": {
            "backgroundcolor": "#E5ECF6",
            "gridcolor": "white",
            "gridwidth": 2,
            "linecolor": "white",
            "showbackground": true,
            "ticks": "",
            "zerolinecolor": "white"
           },
           "zaxis": {
            "backgroundcolor": "#E5ECF6",
            "gridcolor": "white",
            "gridwidth": 2,
            "linecolor": "white",
            "showbackground": true,
            "ticks": "",
            "zerolinecolor": "white"
           }
          },
          "shapedefaults": {
           "line": {
            "color": "#2a3f5f"
           }
          },
          "ternary": {
           "aaxis": {
            "gridcolor": "white",
            "linecolor": "white",
            "ticks": ""
           },
           "baxis": {
            "gridcolor": "white",
            "linecolor": "white",
            "ticks": ""
           },
           "bgcolor": "#E5ECF6",
           "caxis": {
            "gridcolor": "white",
            "linecolor": "white",
            "ticks": ""
           }
          },
          "title": {
           "x": 0.05
          },
          "xaxis": {
           "automargin": true,
           "gridcolor": "white",
           "linecolor": "white",
           "ticks": "",
           "title": {
            "standoff": 15
           },
           "zerolinecolor": "white",
           "zerolinewidth": 2
          },
          "yaxis": {
           "automargin": true,
           "gridcolor": "white",
           "linecolor": "white",
           "ticks": "",
           "title": {
            "standoff": 15
           },
           "zerolinecolor": "white",
           "zerolinewidth": 2
          }
         }
        },
        "xaxis": {
         "anchor": "y",
         "domain": [
          0,
          1
         ],
         "type": "date"
        },
        "yaxis": {
         "anchor": "x",
         "domain": [
          0,
          1
         ],
         "title": {
          "text": "salle"
         }
        }
       }
      },
      "text/html": [
       "<div>                            <div id=\"557bafc0-d0f6-47b7-a3ee-a5b2b657f2b2\" class=\"plotly-graph-div\" style=\"height:525px; width:100%;\"></div>            <script type=\"text/javascript\">                require([\"plotly\"], function(Plotly) {                    window.PLOTLYENV=window.PLOTLYENV || {};                                    if (document.getElementById(\"557bafc0-d0f6-47b7-a3ee-a5b2b657f2b2\")) {                    Plotly.newPlot(                        \"557bafc0-d0f6-47b7-a3ee-a5b2b657f2b2\",                        [{\"alignmentgroup\":\"True\",\"base\":[\"2023-09-14T11:00:39\",\"2023-09-14T12:20:26\",\"2023-09-15T11:53:08\",\"2023-09-15T15:24:37\",\"2023-09-16T08:00:00\",\"2023-09-16T09:23:45\",\"2023-09-16T12:39:53\",\"2023-09-16T16:57:02\",\"2023-09-17T08:00:00\",\"2023-09-17T08:55:32\",\"2023-09-17T13:10:10\",\"2023-09-18T08:00:00\",\"2023-09-18T08:46:36\",\"2023-09-18T11:36:31\",\"2023-09-18T12:34:50\",\"2023-09-18T16:49:46\",\"2023-09-19T11:01:18\",\"2023-09-19T12:07:02\",\"2023-09-19T16:37:30\",\"2023-09-14T12:22:04\",\"2023-09-15T08:00:00\",\"2023-09-15T11:30:26\",\"2023-09-15T16:05:17\",\"2023-09-16T08:00:00\",\"2023-09-16T09:58:29\",\"2023-09-16T11:27:52\",\"2023-09-16T13:06:49\",\"2023-09-16T15:18:32\",\"2023-09-17T10:58:15\",\"2023-09-18T08:00:00\",\"2023-09-18T10:16:37\",\"2023-09-18T11:38:24\",\"2023-09-18T14:20:18\",\"2023-09-18T15:27:54\",\"2023-09-18T16:33:26\",\"2023-09-19T08:00:00\",\"2023-09-19T09:48:59\",\"2023-09-19T15:48:55\",\"2023-09-20T08:00:00\",\"2023-09-20T11:36:48\",\"2023-09-20T15:20:16\",\"2023-09-14T08:41:42\",\"2023-09-14T13:36:39\",\"2023-09-14T16:03:20\",\"2023-09-15T08:00:00\",\"2023-09-15T10:58:02\",\"2023-09-15T15:04:37\",\"2023-09-16T08:00:00\",\"2023-09-16T09:15:51\",\"2023-09-16T12:31:32\",\"2023-09-16T16:43:00\",\"2023-09-17T08:00:00\",\"2023-09-17T11:56:24\",\"2023-09-17T13:27:54\",\"2023-09-18T08:00:00\",\"2023-09-18T12:33:33\",\"2023-09-18T13:23:25\",\"2023-09-18T14:12:50\",\"2023-09-19T08:00:00\",\"2023-09-19T16:22:10\",\"2023-09-20T08:00:00\",\"2023-09-20T10:59:13\",\"2023-09-20T14:37:41\",\"2023-09-14T08:50:00\",\"2023-09-14T11:42:39\",\"2023-09-14T15:59:38\",\"2023-09-15T10:55:21\",\"2023-09-15T13:47:45\",\"2023-09-15T14:43:13\",\"2023-09-15T16:16:41\",\"2023-09-16T08:00:00\",\"2023-09-16T08:54:10\",\"2023-09-16T10:44:16\",\"2023-09-16T12:08:58\",\"2023-09-16T14:14:22\",\"2023-09-17T08:00:00\",\"2023-09-17T12:59:57\",\"2023-09-17T13:31:18\",\"2023-09-18T08:00:00\",\"2023-09-18T11:03:33\",\"2023-09-18T12:32:30\",\"2023-09-18T14:43:17\",\"2023-09-18T16:25:52\",\"2023-09-19T08:00:00\"],\"hovertemplate\":\"urgence=False\\u003cbr\\u003edate_debut=%{base}\\u003cbr\\u003edate_fin=%{x}\\u003cbr\\u003esalle=%{y}\\u003cextra\\u003e\\u003c\\u002fextra\\u003e\",\"legendgroup\":\"False\",\"marker\":{\"color\":\"#636efa\",\"pattern\":{\"shape\":\"\"}},\"name\":\"False\",\"offsetgroup\":\"False\",\"orientation\":\"h\",\"showlegend\":true,\"textposition\":\"auto\",\"x\":[900000.0,900000.0,900000.0,900000.0,900000.0,900000.0,900000.0,900000.0,900000.0,900000.0,900000.0,900000.0,900000.0,900000.0,900000.0,900000.0,900000.0,900000.0,900000.0,900000.0,900000.0,900000.0,900000.0,900000.0,900000.0,900000.0,900000.0,900000.0,900000.0,900000.0,900000.0,900000.0,900000.0,900000.0,900000.0,900000.0,900000.0,900000.0,900000.0,900000.0,900000.0,900000.0,900000.0,900000.0,900000.0,900000.0,900000.0,900000.0,900000.0,900000.0,900000.0,900000.0,900000.0,900000.0,900000.0,900000.0,900000.0,900000.0,900000.0,900000.0,900000.0,900000.0,900000.0,900000.0,900000.0,900000.0,900000.0,900000.0,900000.0,900000.0,900000.0,900000.0,900000.0,900000.0,900000.0,900000.0,900000.0,900000.0,900000.0,900000.0,900000.0,900000.0,900000.0,900000.0],\"xaxis\":\"x\",\"y\":[0,0,0,0,0,0,0,0,0,0,0,0,0,0,0,0,0,0,0,1,1,1,1,1,1,1,1,1,1,1,1,1,1,1,1,1,1,1,1,1,1,2,2,2,2,2,2,2,2,2,2,2,2,2,2,2,2,2,2,2,2,2,2,3,3,3,3,3,3,3,3,3,3,3,3,3,3,3,3,3,3,3,3,3],\"yaxis\":\"y\",\"type\":\"bar\"},{\"alignmentgroup\":\"True\",\"base\":[\"2023-09-14T16:23:15\",\"2023-09-15T08:00:00\",\"2023-09-16T13:31:09\",\"2023-09-17T12:04:26\",\"2023-09-19T08:00:00\",\"2023-09-19T08:54:12\",\"2023-09-17T08:00:00\",\"2023-09-17T12:56:12\",\"2023-09-19T12:07:14\",\"2023-09-15T10:07:14\",\"2023-09-19T12:03:54\",\"2023-09-21T08:00:00\",\"2023-09-15T08:00:00\",\"2023-09-16T12:52:19\",\"2023-09-17T16:16:36\",\"2023-09-18T10:32:52\"],\"hovertemplate\":\"urgence=True\\u003cbr\\u003edate_debut=%{base}\\u003cbr\\u003edate_fin=%{x}\\u003cbr\\u003esalle=%{y}\\u003cextra\\u003e\\u003c\\u002fextra\\u003e\",\"legendgroup\":\"True\",\"marker\":{\"color\":\"#EF553B\",\"pattern\":{\"shape\":\"\"}},\"name\":\"True\",\"offsetgroup\":\"True\",\"orientation\":\"h\",\"showlegend\":true,\"textposition\":\"auto\",\"x\":[900000.0,900000.0,900000.0,900000.0,900000.0,900000.0,900000.0,900000.0,900000.0,900000.0,900000.0,900000.0,900000.0,900000.0,900000.0,900000.0],\"xaxis\":\"x\",\"y\":[0,0,0,0,0,0,1,1,1,2,2,2,3,3,3,3],\"yaxis\":\"y\",\"type\":\"bar\"}],                        {\"template\":{\"data\":{\"histogram2dcontour\":[{\"type\":\"histogram2dcontour\",\"colorbar\":{\"outlinewidth\":0,\"ticks\":\"\"},\"colorscale\":[[0.0,\"#0d0887\"],[0.1111111111111111,\"#46039f\"],[0.2222222222222222,\"#7201a8\"],[0.3333333333333333,\"#9c179e\"],[0.4444444444444444,\"#bd3786\"],[0.5555555555555556,\"#d8576b\"],[0.6666666666666666,\"#ed7953\"],[0.7777777777777778,\"#fb9f3a\"],[0.8888888888888888,\"#fdca26\"],[1.0,\"#f0f921\"]]}],\"choropleth\":[{\"type\":\"choropleth\",\"colorbar\":{\"outlinewidth\":0,\"ticks\":\"\"}}],\"histogram2d\":[{\"type\":\"histogram2d\",\"colorbar\":{\"outlinewidth\":0,\"ticks\":\"\"},\"colorscale\":[[0.0,\"#0d0887\"],[0.1111111111111111,\"#46039f\"],[0.2222222222222222,\"#7201a8\"],[0.3333333333333333,\"#9c179e\"],[0.4444444444444444,\"#bd3786\"],[0.5555555555555556,\"#d8576b\"],[0.6666666666666666,\"#ed7953\"],[0.7777777777777778,\"#fb9f3a\"],[0.8888888888888888,\"#fdca26\"],[1.0,\"#f0f921\"]]}],\"heatmap\":[{\"type\":\"heatmap\",\"colorbar\":{\"outlinewidth\":0,\"ticks\":\"\"},\"colorscale\":[[0.0,\"#0d0887\"],[0.1111111111111111,\"#46039f\"],[0.2222222222222222,\"#7201a8\"],[0.3333333333333333,\"#9c179e\"],[0.4444444444444444,\"#bd3786\"],[0.5555555555555556,\"#d8576b\"],[0.6666666666666666,\"#ed7953\"],[0.7777777777777778,\"#fb9f3a\"],[0.8888888888888888,\"#fdca26\"],[1.0,\"#f0f921\"]]}],\"heatmapgl\":[{\"type\":\"heatmapgl\",\"colorbar\":{\"outlinewidth\":0,\"ticks\":\"\"},\"colorscale\":[[0.0,\"#0d0887\"],[0.1111111111111111,\"#46039f\"],[0.2222222222222222,\"#7201a8\"],[0.3333333333333333,\"#9c179e\"],[0.4444444444444444,\"#bd3786\"],[0.5555555555555556,\"#d8576b\"],[0.6666666666666666,\"#ed7953\"],[0.7777777777777778,\"#fb9f3a\"],[0.8888888888888888,\"#fdca26\"],[1.0,\"#f0f921\"]]}],\"contourcarpet\":[{\"type\":\"contourcarpet\",\"colorbar\":{\"outlinewidth\":0,\"ticks\":\"\"}}],\"contour\":[{\"type\":\"contour\",\"colorbar\":{\"outlinewidth\":0,\"ticks\":\"\"},\"colorscale\":[[0.0,\"#0d0887\"],[0.1111111111111111,\"#46039f\"],[0.2222222222222222,\"#7201a8\"],[0.3333333333333333,\"#9c179e\"],[0.4444444444444444,\"#bd3786\"],[0.5555555555555556,\"#d8576b\"],[0.6666666666666666,\"#ed7953\"],[0.7777777777777778,\"#fb9f3a\"],[0.8888888888888888,\"#fdca26\"],[1.0,\"#f0f921\"]]}],\"surface\":[{\"type\":\"surface\",\"colorbar\":{\"outlinewidth\":0,\"ticks\":\"\"},\"colorscale\":[[0.0,\"#0d0887\"],[0.1111111111111111,\"#46039f\"],[0.2222222222222222,\"#7201a8\"],[0.3333333333333333,\"#9c179e\"],[0.4444444444444444,\"#bd3786\"],[0.5555555555555556,\"#d8576b\"],[0.6666666666666666,\"#ed7953\"],[0.7777777777777778,\"#fb9f3a\"],[0.8888888888888888,\"#fdca26\"],[1.0,\"#f0f921\"]]}],\"mesh3d\":[{\"type\":\"mesh3d\",\"colorbar\":{\"outlinewidth\":0,\"ticks\":\"\"}}],\"scatter\":[{\"fillpattern\":{\"fillmode\":\"overlay\",\"size\":10,\"solidity\":0.2},\"type\":\"scatter\"}],\"parcoords\":[{\"type\":\"parcoords\",\"line\":{\"colorbar\":{\"outlinewidth\":0,\"ticks\":\"\"}}}],\"scatterpolargl\":[{\"type\":\"scatterpolargl\",\"marker\":{\"colorbar\":{\"outlinewidth\":0,\"ticks\":\"\"}}}],\"bar\":[{\"error_x\":{\"color\":\"#2a3f5f\"},\"error_y\":{\"color\":\"#2a3f5f\"},\"marker\":{\"line\":{\"color\":\"#E5ECF6\",\"width\":0.5},\"pattern\":{\"fillmode\":\"overlay\",\"size\":10,\"solidity\":0.2}},\"type\":\"bar\"}],\"scattergeo\":[{\"type\":\"scattergeo\",\"marker\":{\"colorbar\":{\"outlinewidth\":0,\"ticks\":\"\"}}}],\"scatterpolar\":[{\"type\":\"scatterpolar\",\"marker\":{\"colorbar\":{\"outlinewidth\":0,\"ticks\":\"\"}}}],\"histogram\":[{\"marker\":{\"pattern\":{\"fillmode\":\"overlay\",\"size\":10,\"solidity\":0.2}},\"type\":\"histogram\"}],\"scattergl\":[{\"type\":\"scattergl\",\"marker\":{\"colorbar\":{\"outlinewidth\":0,\"ticks\":\"\"}}}],\"scatter3d\":[{\"type\":\"scatter3d\",\"line\":{\"colorbar\":{\"outlinewidth\":0,\"ticks\":\"\"}},\"marker\":{\"colorbar\":{\"outlinewidth\":0,\"ticks\":\"\"}}}],\"scattermapbox\":[{\"type\":\"scattermapbox\",\"marker\":{\"colorbar\":{\"outlinewidth\":0,\"ticks\":\"\"}}}],\"scatterternary\":[{\"type\":\"scatterternary\",\"marker\":{\"colorbar\":{\"outlinewidth\":0,\"ticks\":\"\"}}}],\"scattercarpet\":[{\"type\":\"scattercarpet\",\"marker\":{\"colorbar\":{\"outlinewidth\":0,\"ticks\":\"\"}}}],\"carpet\":[{\"aaxis\":{\"endlinecolor\":\"#2a3f5f\",\"gridcolor\":\"white\",\"linecolor\":\"white\",\"minorgridcolor\":\"white\",\"startlinecolor\":\"#2a3f5f\"},\"baxis\":{\"endlinecolor\":\"#2a3f5f\",\"gridcolor\":\"white\",\"linecolor\":\"white\",\"minorgridcolor\":\"white\",\"startlinecolor\":\"#2a3f5f\"},\"type\":\"carpet\"}],\"table\":[{\"cells\":{\"fill\":{\"color\":\"#EBF0F8\"},\"line\":{\"color\":\"white\"}},\"header\":{\"fill\":{\"color\":\"#C8D4E3\"},\"line\":{\"color\":\"white\"}},\"type\":\"table\"}],\"barpolar\":[{\"marker\":{\"line\":{\"color\":\"#E5ECF6\",\"width\":0.5},\"pattern\":{\"fillmode\":\"overlay\",\"size\":10,\"solidity\":0.2}},\"type\":\"barpolar\"}],\"pie\":[{\"automargin\":true,\"type\":\"pie\"}]},\"layout\":{\"autotypenumbers\":\"strict\",\"colorway\":[\"#636efa\",\"#EF553B\",\"#00cc96\",\"#ab63fa\",\"#FFA15A\",\"#19d3f3\",\"#FF6692\",\"#B6E880\",\"#FF97FF\",\"#FECB52\"],\"font\":{\"color\":\"#2a3f5f\"},\"hovermode\":\"closest\",\"hoverlabel\":{\"align\":\"left\"},\"paper_bgcolor\":\"white\",\"plot_bgcolor\":\"#E5ECF6\",\"polar\":{\"bgcolor\":\"#E5ECF6\",\"angularaxis\":{\"gridcolor\":\"white\",\"linecolor\":\"white\",\"ticks\":\"\"},\"radialaxis\":{\"gridcolor\":\"white\",\"linecolor\":\"white\",\"ticks\":\"\"}},\"ternary\":{\"bgcolor\":\"#E5ECF6\",\"aaxis\":{\"gridcolor\":\"white\",\"linecolor\":\"white\",\"ticks\":\"\"},\"baxis\":{\"gridcolor\":\"white\",\"linecolor\":\"white\",\"ticks\":\"\"},\"caxis\":{\"gridcolor\":\"white\",\"linecolor\":\"white\",\"ticks\":\"\"}},\"coloraxis\":{\"colorbar\":{\"outlinewidth\":0,\"ticks\":\"\"}},\"colorscale\":{\"sequential\":[[0.0,\"#0d0887\"],[0.1111111111111111,\"#46039f\"],[0.2222222222222222,\"#7201a8\"],[0.3333333333333333,\"#9c179e\"],[0.4444444444444444,\"#bd3786\"],[0.5555555555555556,\"#d8576b\"],[0.6666666666666666,\"#ed7953\"],[0.7777777777777778,\"#fb9f3a\"],[0.8888888888888888,\"#fdca26\"],[1.0,\"#f0f921\"]],\"sequentialminus\":[[0.0,\"#0d0887\"],[0.1111111111111111,\"#46039f\"],[0.2222222222222222,\"#7201a8\"],[0.3333333333333333,\"#9c179e\"],[0.4444444444444444,\"#bd3786\"],[0.5555555555555556,\"#d8576b\"],[0.6666666666666666,\"#ed7953\"],[0.7777777777777778,\"#fb9f3a\"],[0.8888888888888888,\"#fdca26\"],[1.0,\"#f0f921\"]],\"diverging\":[[0,\"#8e0152\"],[0.1,\"#c51b7d\"],[0.2,\"#de77ae\"],[0.3,\"#f1b6da\"],[0.4,\"#fde0ef\"],[0.5,\"#f7f7f7\"],[0.6,\"#e6f5d0\"],[0.7,\"#b8e186\"],[0.8,\"#7fbc41\"],[0.9,\"#4d9221\"],[1,\"#276419\"]]},\"xaxis\":{\"gridcolor\":\"white\",\"linecolor\":\"white\",\"ticks\":\"\",\"title\":{\"standoff\":15},\"zerolinecolor\":\"white\",\"automargin\":true,\"zerolinewidth\":2},\"yaxis\":{\"gridcolor\":\"white\",\"linecolor\":\"white\",\"ticks\":\"\",\"title\":{\"standoff\":15},\"zerolinecolor\":\"white\",\"automargin\":true,\"zerolinewidth\":2},\"scene\":{\"xaxis\":{\"backgroundcolor\":\"#E5ECF6\",\"gridcolor\":\"white\",\"linecolor\":\"white\",\"showbackground\":true,\"ticks\":\"\",\"zerolinecolor\":\"white\",\"gridwidth\":2},\"yaxis\":{\"backgroundcolor\":\"#E5ECF6\",\"gridcolor\":\"white\",\"linecolor\":\"white\",\"showbackground\":true,\"ticks\":\"\",\"zerolinecolor\":\"white\",\"gridwidth\":2},\"zaxis\":{\"backgroundcolor\":\"#E5ECF6\",\"gridcolor\":\"white\",\"linecolor\":\"white\",\"showbackground\":true,\"ticks\":\"\",\"zerolinecolor\":\"white\",\"gridwidth\":2}},\"shapedefaults\":{\"line\":{\"color\":\"#2a3f5f\"}},\"annotationdefaults\":{\"arrowcolor\":\"#2a3f5f\",\"arrowhead\":0,\"arrowwidth\":1},\"geo\":{\"bgcolor\":\"white\",\"landcolor\":\"#E5ECF6\",\"subunitcolor\":\"white\",\"showland\":true,\"showlakes\":true,\"lakecolor\":\"white\"},\"title\":{\"x\":0.05},\"mapbox\":{\"style\":\"light\"}}},\"xaxis\":{\"anchor\":\"y\",\"domain\":[0.0,1.0],\"type\":\"date\"},\"yaxis\":{\"anchor\":\"x\",\"domain\":[0.0,1.0],\"title\":{\"text\":\"salle\"}},\"legend\":{\"title\":{\"text\":\"urgence\"},\"tracegroupgap\":0},\"margin\":{\"t\":60},\"barmode\":\"overlay\"},                        {\"responsive\": true}                    ).then(function(){\n",
       "                            \n",
       "var gd = document.getElementById('557bafc0-d0f6-47b7-a3ee-a5b2b657f2b2');\n",
       "var x = new MutationObserver(function (mutations, observer) {{\n",
       "        var display = window.getComputedStyle(gd).display;\n",
       "        if (!display || display === 'none') {{\n",
       "            console.log([gd, 'removed!']);\n",
       "            Plotly.purge(gd);\n",
       "            observer.disconnect();\n",
       "        }}\n",
       "}});\n",
       "\n",
       "// Listen for the removal of the full notebook cells\n",
       "var notebookContainer = gd.closest('#notebook-container');\n",
       "if (notebookContainer) {{\n",
       "    x.observe(notebookContainer, {childList: true});\n",
       "}}\n",
       "\n",
       "// Listen for the clearing of the current output cell\n",
       "var outputEl = gd.closest('.output');\n",
       "if (outputEl) {{\n",
       "    x.observe(outputEl, {childList: true});\n",
       "}}\n",
       "\n",
       "                        })                };                });            </script>        </div>"
      ]
     },
     "metadata": {},
     "output_type": "display_data"
    }
   ],
   "source": [
    "px.timeline(gantt, x_start=\"date_debut\", x_end=\"date_fin\", y=\"salle\", color=\"urgence\")"
   ]
  },
  {
   "cell_type": "code",
   "execution_count": null,
   "metadata": {},
   "outputs": [],
   "source": [
    "def critere_chirurgiens(planning, operations):\n",
    "    chirugiens = dates_operations.chirurgien.unique()\n",
    "    conflicts = 0\n",
    "    for chirugien in chirugiens:\n",
    "        df = dates_operations.query(f\"chirurgien == {chirugien}\").sort_values('debut_op')\n",
    "        for i in range(len(df)):\n",
    "            if i > 0 and df.iloc[i]['debut_op'] > df.iloc[i - 1]['fin_op']:\n",
    "                conflicts += 1\n",
    "    return conflicts"
   ]
  },
  {
   "cell_type": "markdown",
   "metadata": {},
   "source": [
    "# Autre"
   ]
  },
  {
   "cell_type": "code",
   "execution_count": null,
   "metadata": {},
   "outputs": [],
   "source": [
    "def calculer_dates(planning, operations):\n",
    "    dates_operations = operations.copy()\n",
    "    dates_operations['salle'] = np.nan\n",
    "    dates_operations['debut_op'] = np.nan\n",
    "    dates_operations['fin_op'] = np.nan\n",
    "\n",
    "    for salle in range(num_salles):\n",
    "        time = 1695913686\n",
    "        for operation in planning[salle]:\n",
    "            dates_operations.loc[operation, 'salle'] = salle\n",
    "            dates_operations.loc[operation, 'debut_op'] = time\n",
    "            dates_operations.loc[operation, 'fin_op'] = time + dates_operations.loc[operation, 'duree_op']\n",
    "            time += dates_operations.loc[operation, 'duree_op']\n",
    "    return dates_operations"
   ]
  },
  {
   "cell_type": "code",
   "execution_count": null,
   "metadata": {},
   "outputs": [],
   "source": [
    "# random planning\n",
    "np.random.seed(42)\n",
    "planning = np.random.permutation(num_patients).reshape(num_salles, -1)\n",
    "planning"
   ]
  },
  {
   "cell_type": "code",
   "execution_count": null,
   "metadata": {},
   "outputs": [],
   "source": [
    "calculer_dates(planning, operations)"
   ]
  },
  {
   "cell_type": "code",
   "execution_count": null,
   "metadata": {},
   "outputs": [],
   "source": [
    "def critere_chirurgiens(planning, operations):\n",
    "    dates_operations = calculer_dates(planning, operations)\n",
    "            \n",
    "    chirugiens = dates_operations.chirurgien.unique()\n",
    "    conflicts = 0\n",
    "    for chirugien in chirugiens:\n",
    "        df = dates_operations.query(f\"chirurgien == {chirugien}\").sort_values('debut_op')\n",
    "        for i in range(len(df)):\n",
    "            if i > 0 and df.iloc[i]['debut_op'] > df.iloc[i - 1]['fin_op']:\n",
    "                conflicts += 1\n",
    "    return conflicts"
   ]
  },
  {
   "cell_type": "code",
   "execution_count": null,
   "metadata": {},
   "outputs": [],
   "source": [
    "def critere_urgences(planning, operations):\n",
    "    dates_operations = calculer_dates(planning, operations)\n",
    "    urgences = dates_operations.query(\"urgence == True\")\n",
    "    conflicts = 0\n",
    "    for i in range(len(urgences)):\n",
    "        operation = urgences.iloc[i]\n",
    "        if operation['date_entree'] + 48 * 60 < operation['debut_op']:\n",
    "            conflicts += 1\n",
    "    return conflicts"
   ]
  },
  {
   "cell_type": "code",
   "execution_count": null,
   "metadata": {},
   "outputs": [],
   "source": [
    "df = calculer_dates(planning, operations)\n",
    "df.debut_op = pd.to_datetime(df.debut_op, unit='s')\n",
    "df.fin_op = pd.to_datetime(df.fin_op, unit='s')\n",
    "\n",
    "fig = px.timeline(df, x_start=\"debut_op\", x_end=\"fin_op\", y=\"salle\", color=\"urgence\", hover_name=\"index\")\n",
    "fig.update_yaxes(autorange=\"reversed\") # otherwise tasks are listed from the bottom up\n",
    "fig.show()"
   ]
  },
  {
   "cell_type": "code",
   "execution_count": null,
   "metadata": {},
   "outputs": [],
   "source": [
    "critere_urgences(planning, operations)"
   ]
  },
  {
   "cell_type": "code",
   "execution_count": null,
   "metadata": {},
   "outputs": [],
   "source": []
  }
 ],
 "metadata": {
  "kernelspec": {
   "display_name": "base",
   "language": "python",
   "name": "python3"
  },
  "language_info": {
   "codemirror_mode": {
    "name": "ipython",
    "version": 3
   },
   "file_extension": ".py",
   "mimetype": "text/x-python",
   "name": "python",
   "nbconvert_exporter": "python",
   "pygments_lexer": "ipython3",
   "version": "3.10.8"
  }
 },
 "nbformat": 4,
 "nbformat_minor": 2
}
